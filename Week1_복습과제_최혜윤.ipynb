{
  "nbformat": 4,
  "nbformat_minor": 0,
  "metadata": {
    "colab": {
      "provenance": []
    },
    "kernelspec": {
      "name": "python3",
      "display_name": "Python 3"
    },
    "language_info": {
      "name": "python"
    }
  },
  "cells": [
    {
      "cell_type": "markdown",
      "source": [
        "# **1주차 복습과제**\n",
        "- 1주차 복습과제는 **넘파이/판다스 연습문제**입니다.\n",
        "- 코드 작성하시고, 출력 결과까지 나오도록 실행 부탁드립니다.\n",
        "  - 제출 시 파일명 본인 이름으로 변경해 주세요. ex) Week1_복습과제_OOO\n",
        "- 교재에서 다루지 않은 메소드도 다수 포함되어 있지만 구글링이나 챗지피티 등을 활용해서라도 풀어주세요! 한 번씩 사용해 보면 좋을 것 같아 어려워도 문제에 포함했습니다 🤗"
      ],
      "metadata": {
        "id": "jkGNNJY3S65Z"
      }
    },
    {
      "cell_type": "markdown",
      "source": [
        "## **넘파이**"
      ],
      "metadata": {
        "id": "WedDHAHPJPIA"
      }
    },
    {
      "cell_type": "markdown",
      "source": [
        "### 1. Import the numpy package under the name `np`."
      ],
      "metadata": {
        "id": "7Ue21e0fKFRI"
      }
    },
    {
      "cell_type": "code",
      "execution_count": null,
      "metadata": {
        "id": "60ACXMoSGe0H"
      },
      "outputs": [],
      "source": [
        "import numpy as np"
      ]
    },
    {
      "cell_type": "markdown",
      "source": [
        "### 2. Print the numpy version and the configuration.\n",
        "\n",
        "(hint: `np.__version__`, `np.show_config`)"
      ],
      "metadata": {
        "id": "FnHQOUj-KNiT"
      }
    },
    {
      "cell_type": "code",
      "source": [
        "print(\"NumPy version:\", np.__version__)\n",
        "\n",
        "np.show_config()"
      ],
      "metadata": {
        "id": "FgXzYXoRS-V7",
        "colab": {
          "base_uri": "https://localhost:8080/"
        },
        "outputId": "6113f1ab-693a-4f03-cc80-f2722d91defe"
      },
      "execution_count": null,
      "outputs": [
        {
          "output_type": "stream",
          "name": "stdout",
          "text": [
            "NumPy version: 1.26.4\n",
            "Build Dependencies:\n",
            "  blas:\n",
            "    detection method: pkgconfig\n",
            "    found: true\n",
            "    include directory: /usr/local/include\n",
            "    lib directory: /usr/local/lib\n",
            "    name: openblas64\n",
            "    openblas configuration: USE_64BITINT=1 DYNAMIC_ARCH=1 DYNAMIC_OLDER= NO_CBLAS=\n",
            "      NO_LAPACK= NO_LAPACKE= NO_AFFINITY=1 USE_OPENMP= HASWELL MAX_THREADS=2\n",
            "    pc file directory: /usr/local/lib/pkgconfig\n",
            "    version: 0.3.23.dev\n",
            "  lapack:\n",
            "    detection method: internal\n",
            "    found: true\n",
            "    include directory: unknown\n",
            "    lib directory: unknown\n",
            "    name: dep140213194937296\n",
            "    openblas configuration: unknown\n",
            "    pc file directory: unknown\n",
            "    version: 1.26.4\n",
            "Compilers:\n",
            "  c:\n",
            "    args: -fno-strict-aliasing\n",
            "    commands: cc\n",
            "    linker: ld.bfd\n",
            "    linker args: -Wl,--strip-debug, -fno-strict-aliasing\n",
            "    name: gcc\n",
            "    version: 10.2.1\n",
            "  c++:\n",
            "    commands: c++\n",
            "    linker: ld.bfd\n",
            "    linker args: -Wl,--strip-debug\n",
            "    name: gcc\n",
            "    version: 10.2.1\n",
            "  cython:\n",
            "    commands: cython\n",
            "    linker: cython\n",
            "    name: cython\n",
            "    version: 3.0.8\n",
            "Machine Information:\n",
            "  build:\n",
            "    cpu: x86_64\n",
            "    endian: little\n",
            "    family: x86_64\n",
            "    system: linux\n",
            "  host:\n",
            "    cpu: x86_64\n",
            "    endian: little\n",
            "    family: x86_64\n",
            "    system: linux\n",
            "Python Information:\n",
            "  path: /opt/python/cp311-cp311/bin/python\n",
            "  version: '3.11'\n",
            "SIMD Extensions:\n",
            "  baseline:\n",
            "  - SSE\n",
            "  - SSE2\n",
            "  - SSE3\n",
            "  found:\n",
            "  - SSSE3\n",
            "  - SSE41\n",
            "  - POPCNT\n",
            "  - SSE42\n",
            "  - AVX\n",
            "  - F16C\n",
            "  - FMA3\n",
            "  - AVX2\n",
            "  not found:\n",
            "  - AVX512F\n",
            "  - AVX512CD\n",
            "  - AVX512_KNL\n",
            "  - AVX512_KNM\n",
            "  - AVX512_SKX\n",
            "  - AVX512_CLX\n",
            "  - AVX512_CNL\n",
            "  - AVX512_ICL\n",
            "\n"
          ]
        }
      ]
    },
    {
      "cell_type": "markdown",
      "source": [
        "### 3. Create a null vector of size 10.\n",
        "\n",
        "#### ✅ 출력 예시\n",
        "\n",
        "\n",
        "```\n",
        "[0. 0. 0. 0. 0. 0. 0. 0. 0. 0.]\n",
        "```\n",
        "\n"
      ],
      "metadata": {
        "id": "0lB5hLlTKb1Z"
      }
    },
    {
      "cell_type": "code",
      "source": [
        "null_vector = np.zeros(10)\n",
        "\n",
        "print(null_vector)"
      ],
      "metadata": {
        "id": "eK4DTjPwS_zU",
        "colab": {
          "base_uri": "https://localhost:8080/"
        },
        "outputId": "e6dcc72b-0968-44dd-86e7-91ad45afc7d1"
      },
      "execution_count": null,
      "outputs": [
        {
          "output_type": "stream",
          "name": "stdout",
          "text": [
            "[0. 0. 0. 0. 0. 0. 0. 0. 0. 0.]\n"
          ]
        }
      ]
    },
    {
      "cell_type": "markdown",
      "source": [
        "### 4. Create a null vector of size 10 but the fifth value which is 1.\n",
        "\n",
        "#### ✅출력 예시\n",
        "\n",
        "\n",
        "```\n",
        "[0. 0. 0. 0. 1. 0. 0. 0. 0. 0.]\n",
        "```"
      ],
      "metadata": {
        "id": "7lSSfwh6Kj5v"
      }
    },
    {
      "cell_type": "code",
      "source": [
        "null_vector = np.zeros(10)\n",
        "null_vector[4] = 1\n",
        "\n",
        "print(null_vector)"
      ],
      "metadata": {
        "id": "ofohgzsTTBs6",
        "colab": {
          "base_uri": "https://localhost:8080/"
        },
        "outputId": "e547f588-073a-4434-fe4b-5c25dead16f7"
      },
      "execution_count": null,
      "outputs": [
        {
          "output_type": "stream",
          "name": "stdout",
          "text": [
            "[0. 0. 0. 0. 1. 0. 0. 0. 0. 0.]\n"
          ]
        }
      ]
    },
    {
      "cell_type": "markdown",
      "source": [
        "### 5. Create a vector with values ranging from 10 to 49.\n",
        "\n",
        "#### ✅출력 예시\n",
        "\n",
        "\n",
        "```\n",
        "[10 11 12 13 14 15 16 17 18 19 20 21 22 23 24 25 26 27 28 29 30 31 32 33\n",
        " 34 35 36 37 38 39 40 41 42 43 44 45 46 47 48 49]\n",
        "```"
      ],
      "metadata": {
        "id": "-NeqvmpLKkdY"
      }
    },
    {
      "cell_type": "code",
      "source": [
        "vector = np.arange(start = 10, stop = 50)\n",
        "\n",
        "print(vector)"
      ],
      "metadata": {
        "id": "oQ1Mo5W9TC0P",
        "colab": {
          "base_uri": "https://localhost:8080/"
        },
        "outputId": "739802e1-3ab9-4334-b7e5-1d4acae99a8d"
      },
      "execution_count": null,
      "outputs": [
        {
          "output_type": "stream",
          "name": "stdout",
          "text": [
            "[10 11 12 13 14 15 16 17 18 19 20 21 22 23 24 25 26 27 28 29 30 31 32 33\n",
            " 34 35 36 37 38 39 40 41 42 43 44 45 46 47 48 49]\n"
          ]
        }
      ]
    },
    {
      "cell_type": "markdown",
      "source": [
        "### 6. Reverse a vector (first element becomes last).\n",
        "\n",
        "#### ✅출력 예시\n",
        "\n",
        "\n",
        "```\n",
        "[9 8 7 6 5 4 3 2 1 0]\n",
        "```"
      ],
      "metadata": {
        "id": "B1dFQzRNLN23"
      }
    },
    {
      "cell_type": "code",
      "source": [
        "org_array = np.arange(10)\n",
        "sort_array = np.sort(org_array)[::-1]\n",
        "\n",
        "print(sort_array)"
      ],
      "metadata": {
        "id": "wrpNYd4jTDsx",
        "colab": {
          "base_uri": "https://localhost:8080/"
        },
        "outputId": "217f18c9-beef-40b1-ec99-6fad333e4d85"
      },
      "execution_count": null,
      "outputs": [
        {
          "output_type": "stream",
          "name": "stdout",
          "text": [
            "[9 8 7 6 5 4 3 2 1 0]\n"
          ]
        }
      ]
    },
    {
      "cell_type": "markdown",
      "source": [
        "### 7. Create a 3x3 matrix with values ranging from 0 to 8.\n",
        "\n",
        "#### ✅출력 예시\n",
        "\n",
        "\n",
        "```\n",
        "[[0 1 2]\n",
        " [3 4 5]\n",
        " [6 7 8]]\n",
        "```"
      ],
      "metadata": {
        "id": "doUDUe_NLOhe"
      }
    },
    {
      "cell_type": "code",
      "source": [
        "array1 = np.arange(9)\n",
        "array2 = array1.reshape(3, 3)\n",
        "\n",
        "print(array2)"
      ],
      "metadata": {
        "id": "4g8WetkATEnw",
        "colab": {
          "base_uri": "https://localhost:8080/"
        },
        "outputId": "964f122d-dc11-4bcf-a307-a6832b6a9a7c"
      },
      "execution_count": null,
      "outputs": [
        {
          "output_type": "stream",
          "name": "stdout",
          "text": [
            "[[0 1 2]\n",
            " [3 4 5]\n",
            " [6 7 8]]\n"
          ]
        }
      ]
    },
    {
      "cell_type": "markdown",
      "source": [
        "### 8. Find indices of non-zero elements from [1,2,0,0,4,0].\n",
        "\n",
        "#### ✅출력 예시\n",
        "\n",
        "\n",
        "```\n",
        "(array([0, 1, 4]),)\n",
        "```"
      ],
      "metadata": {
        "id": "s-MtSq2RLzJx"
      }
    },
    {
      "cell_type": "code",
      "source": [
        "array1 = np.array([1, 2, 0, 0, 4, 0])\n",
        "non_zero_indices = np.nonzero(array1)\n",
        "\n",
        "print(non_zero_indices)"
      ],
      "metadata": {
        "id": "jw9iUP7sTL7D",
        "colab": {
          "base_uri": "https://localhost:8080/"
        },
        "outputId": "648faf2f-80e0-4e57-88ad-531a4c54e8ac"
      },
      "execution_count": null,
      "outputs": [
        {
          "output_type": "stream",
          "name": "stdout",
          "text": [
            "(array([0, 1, 4]),)\n"
          ]
        }
      ]
    },
    {
      "cell_type": "markdown",
      "source": [
        "### 9. Create a 3x3 identity matrix.\n",
        "\n",
        "(hint: `np.eye`)\n",
        "\n",
        "#### ✅출력 예시\n",
        "\n",
        "\n",
        "```\n",
        "[[1. 0. 0.]\n",
        " [0. 1. 0.]\n",
        " [0. 0. 1.]]\n",
        "```"
      ],
      "metadata": {
        "id": "ihRWHFUxL6ak"
      }
    },
    {
      "cell_type": "code",
      "source": [
        "matrix = np.eye(3)\n",
        "\n",
        "print(matrix)"
      ],
      "metadata": {
        "id": "fFzDGJT5TNh7",
        "colab": {
          "base_uri": "https://localhost:8080/"
        },
        "outputId": "b4f4d1f2-1a11-428f-80d5-9a55bb809dc9"
      },
      "execution_count": null,
      "outputs": [
        {
          "output_type": "stream",
          "name": "stdout",
          "text": [
            "[[1. 0. 0.]\n",
            " [0. 1. 0.]\n",
            " [0. 0. 1.]]\n"
          ]
        }
      ]
    },
    {
      "cell_type": "markdown",
      "source": [
        "### 10. Create a 3x3x3 array with random values.\n",
        "\n",
        "#### ✅출력 예시\n",
        "\n",
        "\n",
        "```\n",
        "[[[0.30742852 0.26458726 0.85474383]\n",
        "  [0.80234531 0.76268902 0.91286677]\n",
        "  [0.8804109  0.51011378 0.82103555]]\n",
        "\n",
        " [[0.403753   0.83120234 0.15202655]\n",
        "  [0.75782685 0.0732058  0.48148689]\n",
        "  [0.2089428  0.44968622 0.88134184]]\n",
        "\n",
        " [[0.52251191 0.10738374 0.86279648]\n",
        "  [0.26203911 0.42157754 0.68856833]\n",
        "  [0.58133626 0.31059127 0.71354172]]]\n",
        "```"
      ],
      "metadata": {
        "id": "FvkGsY8eLPCG"
      }
    },
    {
      "cell_type": "code",
      "source": [
        "random_matrix = np.random.rand(3,3,3)\n",
        "\n",
        "print(random_matrix)"
      ],
      "metadata": {
        "id": "084SAfnwTPpt",
        "colab": {
          "base_uri": "https://localhost:8080/"
        },
        "outputId": "2d1d1ed1-7027-49e0-d924-a74d3fefe5c4"
      },
      "execution_count": null,
      "outputs": [
        {
          "output_type": "stream",
          "name": "stdout",
          "text": [
            "[[[0.7562099  0.93005301 0.74771781]\n",
            "  [0.94526661 0.54122498 0.22669846]\n",
            "  [0.59413557 0.46469691 0.43665847]]\n",
            "\n",
            " [[0.94836866 0.12558177 0.65345985]\n",
            "  [0.8498641  0.32736279 0.9345845 ]\n",
            "  [0.05382236 0.56262217 0.82065483]]\n",
            "\n",
            " [[0.04288223 0.548721   0.35242416]\n",
            "  [0.68651878 0.69357105 0.24772381]\n",
            "  [0.034144   0.67733392 0.18576669]]]\n"
          ]
        }
      ]
    },
    {
      "cell_type": "markdown",
      "source": [
        "### 11. Create a 10x10 array with random values and find the minimum and maximum values.\n",
        "\n",
        "#### ✅출력 예시\n",
        "\n",
        "\n",
        "```\n",
        "0.018360924693465508 0.9990506368595156\n",
        "```"
      ],
      "metadata": {
        "id": "4-VynNt5MVYY"
      }
    },
    {
      "cell_type": "code",
      "source": [
        "random_matrix = np.random.rand(10,10)\n",
        "min_value = np.min(random_matrix)\n",
        "max_value = np.max(random_matrix)\n",
        "\n",
        "print(min_value, max_value)"
      ],
      "metadata": {
        "id": "W14PP5x6TRh6",
        "colab": {
          "base_uri": "https://localhost:8080/"
        },
        "outputId": "253052ee-432c-4e48-a53a-d83ee60da438"
      },
      "execution_count": null,
      "outputs": [
        {
          "output_type": "stream",
          "name": "stdout",
          "text": [
            "0.01650838572388169 0.9974719810320255\n"
          ]
        }
      ]
    },
    {
      "cell_type": "markdown",
      "source": [
        "### 12. Create a random vector of size 30 and find the mean value.\n",
        "\n",
        "#### ✅출력 예시\n",
        "\n",
        "\n",
        "```\n",
        "0.46249036320403636\n",
        "```"
      ],
      "metadata": {
        "id": "cQKXmfJBMVQ_"
      }
    },
    {
      "cell_type": "code",
      "source": [
        "random_vector = np.random.rand(30)\n",
        "mean_value = np.mean(random_vector)\n",
        "\n",
        "print(mean_value)"
      ],
      "metadata": {
        "id": "FS6ggiNJTStp",
        "colab": {
          "base_uri": "https://localhost:8080/"
        },
        "outputId": "6ae277d5-c820-4456-f093-ad081d85e54e"
      },
      "execution_count": null,
      "outputs": [
        {
          "output_type": "stream",
          "name": "stdout",
          "text": [
            "0.5600528667246973\n"
          ]
        }
      ]
    },
    {
      "cell_type": "markdown",
      "source": [
        "### 13. Create a 2d array with 1 on the border and 0 inside. (size: 10x10)\n",
        "\n",
        "#### ✅출력 예시\n",
        "\n",
        "\n",
        "```\n",
        "[[1. 1. 1. 1. 1. 1. 1. 1. 1. 1.]\n",
        " [1. 0. 0. 0. 0. 0. 0. 0. 0. 1.]\n",
        " [1. 0. 0. 0. 0. 0. 0. 0. 0. 1.]\n",
        " [1. 0. 0. 0. 0. 0. 0. 0. 0. 1.]\n",
        " [1. 0. 0. 0. 0. 0. 0. 0. 0. 1.]\n",
        " [1. 0. 0. 0. 0. 0. 0. 0. 0. 1.]\n",
        " [1. 0. 0. 0. 0. 0. 0. 0. 0. 1.]\n",
        " [1. 0. 0. 0. 0. 0. 0. 0. 0. 1.]\n",
        " [1. 0. 0. 0. 0. 0. 0. 0. 0. 1.]\n",
        " [1. 1. 1. 1. 1. 1. 1. 1. 1. 1.]]\n",
        "```"
      ],
      "metadata": {
        "id": "QZ4h-AddMVJb"
      }
    },
    {
      "cell_type": "code",
      "source": [
        "array = np.zeros((10, 10))\n",
        "\n",
        "array[0, :] = 1\n",
        "array[-1, :] = 1\n",
        "array[:, 0] = 1\n",
        "array[:, -1] = 1\n",
        "\n",
        "print(array)"
      ],
      "metadata": {
        "id": "pKEi08edTUMt",
        "colab": {
          "base_uri": "https://localhost:8080/"
        },
        "outputId": "0b39c713-aeb4-4408-96c9-3a4305593236"
      },
      "execution_count": null,
      "outputs": [
        {
          "output_type": "stream",
          "name": "stdout",
          "text": [
            "[[1. 1. 1. 1. 1. 1. 1. 1. 1. 1.]\n",
            " [1. 0. 0. 0. 0. 0. 0. 0. 0. 1.]\n",
            " [1. 0. 0. 0. 0. 0. 0. 0. 0. 1.]\n",
            " [1. 0. 0. 0. 0. 0. 0. 0. 0. 1.]\n",
            " [1. 0. 0. 0. 0. 0. 0. 0. 0. 1.]\n",
            " [1. 0. 0. 0. 0. 0. 0. 0. 0. 1.]\n",
            " [1. 0. 0. 0. 0. 0. 0. 0. 0. 1.]\n",
            " [1. 0. 0. 0. 0. 0. 0. 0. 0. 1.]\n",
            " [1. 0. 0. 0. 0. 0. 0. 0. 0. 1.]\n",
            " [1. 1. 1. 1. 1. 1. 1. 1. 1. 1.]]\n"
          ]
        }
      ]
    },
    {
      "cell_type": "markdown",
      "source": [
        "### 14. How to add a border (filled with 0's) around an existing array?\n",
        "\n",
        "(hint: 인덱싱 사용)\n",
        "\n",
        "#### ✅출력 예시\n",
        "\n",
        "\n",
        "```\n",
        "# before\n",
        "[[1. 1. 1. 1. 1.]\n",
        " [1. 1. 1. 1. 1.]\n",
        " [1. 1. 1. 1. 1.]\n",
        " [1. 1. 1. 1. 1.]\n",
        " [1. 1. 1. 1. 1.]]\n",
        "\n",
        " # after\n",
        " [[0. 0. 0. 0. 0.]\n",
        "  [0. 1. 1. 1. 0.]\n",
        "  [0. 1. 1. 1. 0.]\n",
        "  [0. 1. 1. 1. 0.]\n",
        "  [0. 0. 0. 0. 0.]]\n",
        "\n",
        "```"
      ],
      "metadata": {
        "id": "BIwX-BiSMUz_"
      }
    },
    {
      "cell_type": "code",
      "source": [
        "print('# before')\n",
        "array = np.ones((5,5))\n",
        "print(array)\n",
        "print('\\n')\n",
        "\n",
        "print('# after')\n",
        "array[0, :] = [0]\n",
        "array[-1, :] = [0]\n",
        "array[:, 0] = [0]\n",
        "array[:, -1] = [0]\n",
        "print(array)"
      ],
      "metadata": {
        "id": "A4M1huiqTWXy",
        "colab": {
          "base_uri": "https://localhost:8080/"
        },
        "outputId": "cc016810-62be-42ee-e253-691b00e258b7"
      },
      "execution_count": null,
      "outputs": [
        {
          "output_type": "stream",
          "name": "stdout",
          "text": [
            "# before\n",
            "[[1. 1. 1. 1. 1.]\n",
            " [1. 1. 1. 1. 1.]\n",
            " [1. 1. 1. 1. 1.]\n",
            " [1. 1. 1. 1. 1.]\n",
            " [1. 1. 1. 1. 1.]]\n",
            "\n",
            "\n",
            "# after\n",
            "[[0. 0. 0. 0. 0.]\n",
            " [0. 1. 1. 1. 0.]\n",
            " [0. 1. 1. 1. 0.]\n",
            " [0. 1. 1. 1. 0.]\n",
            " [0. 0. 0. 0. 0.]]\n"
          ]
        }
      ]
    },
    {
      "cell_type": "markdown",
      "source": [
        "### 15. What is the result of the following expression?\n",
        "\n",
        "(실행 후, 결과에 대한 주석 작성해주세요. ex. 출력 결과에 대한 이유)\n",
        "\n",
        "```python\n",
        "0 * np.nan\n",
        "np.nan == np.nan\n",
        "np.inf > np.nan\n",
        "np.nan - np.nan\n",
        "np.nan in set([np.nan])\n",
        "0.3 == 3 * 0.1\n",
        "```"
      ],
      "metadata": {
        "id": "tggOHEUGM9PK"
      }
    },
    {
      "cell_type": "code",
      "source": [
        "0 * np.nan # Nan은 \"Not a Number(숫자가 아님)\"을 뜻하므로, 정의되지 않는다. 그러므로 'Nan * 0' 값도 정의되지 않으므로 결과는 'Nan'이 나온다."
      ],
      "metadata": {
        "id": "RmjjLx8_TYNp",
        "colab": {
          "base_uri": "https://localhost:8080/"
        },
        "outputId": "b200e8e3-9627-439e-d98d-acbe941847cd"
      },
      "execution_count": null,
      "outputs": [
        {
          "output_type": "execute_result",
          "data": {
            "text/plain": [
              "nan"
            ]
          },
          "metadata": {},
          "execution_count": 15
        }
      ]
    },
    {
      "cell_type": "code",
      "source": [
        "np.nan == np.nan # Nan은 \"Not a Number(숫자가 아님)\"을 뜻하므로, 정의되지 않는다. 그러므로 자기 자신(Nan)과도 비교할 수 없기 때문에 False가 나온다."
      ],
      "metadata": {
        "colab": {
          "base_uri": "https://localhost:8080/"
        },
        "id": "TdeopRKG1rMi",
        "outputId": "aecfdbaa-3369-4128-9a16-d23705116ed9"
      },
      "execution_count": null,
      "outputs": [
        {
          "output_type": "execute_result",
          "data": {
            "text/plain": [
              "False"
            ]
          },
          "metadata": {},
          "execution_count": 16
        }
      ]
    },
    {
      "cell_type": "code",
      "source": [
        "np.inf > np.nan # Nan은 \"Not a Number(숫자가 아님)\"을 뜻하므로, 정의되지 않는다. 그러므로 자기 자신(Nan)과도 비교할 수 없기 때문에 False가 나온다."
      ],
      "metadata": {
        "colab": {
          "base_uri": "https://localhost:8080/"
        },
        "id": "c9zVnFyc1sst",
        "outputId": "ec4b2cea-a66f-431a-9396-e1e4aad7ef38"
      },
      "execution_count": null,
      "outputs": [
        {
          "output_type": "execute_result",
          "data": {
            "text/plain": [
              "False"
            ]
          },
          "metadata": {},
          "execution_count": 17
        }
      ]
    },
    {
      "cell_type": "code",
      "source": [
        "np.nan - np.nan # Nan은 \"Not a Number(숫자가 아님)\"을 뜻하므로, 정의되지 않는다. 따라서 Nan - Nan 의 결과도 의미를 정의할 수 없어서 nan이 나온다."
      ],
      "metadata": {
        "colab": {
          "base_uri": "https://localhost:8080/"
        },
        "id": "XVdH3EFW1uHS",
        "outputId": "c42a1e32-c71f-4327-f889-048f43b62be0"
      },
      "execution_count": null,
      "outputs": [
        {
          "output_type": "execute_result",
          "data": {
            "text/plain": [
              "nan"
            ]
          },
          "metadata": {},
          "execution_count": 18
        }
      ]
    },
    {
      "cell_type": "code",
      "source": [
        "np.nan in set([np.nan]) # set은 해시 값 기반으로 동작하기 때문에 in 연산자는 True가 됨."
      ],
      "metadata": {
        "colab": {
          "base_uri": "https://localhost:8080/"
        },
        "id": "3_JHcH7v1v3Z",
        "outputId": "fa7bd7e2-4e0d-4a3c-e377-1bb0757e2534"
      },
      "execution_count": null,
      "outputs": [
        {
          "output_type": "execute_result",
          "data": {
            "text/plain": [
              "True"
            ]
          },
          "metadata": {},
          "execution_count": 19
        }
      ]
    },
    {
      "cell_type": "code",
      "source": [
        "0.3 == 3 * 0.1 # 3 * 0.1의 실제 값은 **0.3이 아니라 0.30000000000000004**로 저장된다. 따라서, False가 반환된다."
      ],
      "metadata": {
        "colab": {
          "base_uri": "https://localhost:8080/"
        },
        "id": "u7sFmkQa1yLx",
        "outputId": "fba5de40-93a0-4b26-8db8-29b7f9b4b43c"
      },
      "execution_count": null,
      "outputs": [
        {
          "output_type": "execute_result",
          "data": {
            "text/plain": [
              "False"
            ]
          },
          "metadata": {},
          "execution_count": 20
        }
      ]
    },
    {
      "cell_type": "markdown",
      "source": [
        "### 16. Normalize a 5x5 random matrix.\n",
        "\n",
        "(hint: (x - mean) / std)\n",
        "\n",
        "#### ✅출력 예시\n",
        "\n",
        "\n",
        "```\n",
        "[[-1.4765971   0.9582795  -1.29910242  1.0250981  -0.79801651]\n",
        " [ 0.57945383 -1.28559078  0.02733238  0.99675052  1.2702088 ]\n",
        " [-0.08513084 -1.4686812  -0.78813593 -0.34559303 -1.15052328]\n",
        " [ 0.98183813 -1.41255344  0.37190169  1.05697419 -0.02668639]\n",
        " [-1.14466851  0.98911205  1.14499256  0.69454882  1.18478886]]\n",
        "```"
      ],
      "metadata": {
        "id": "28iOVtXXM8gA"
      }
    },
    {
      "cell_type": "code",
      "source": [
        "matrix = np.random.rand(5, 5)\n",
        "mean = np.mean(matrix)\n",
        "std = np.std(matrix)\n",
        "normalized_matrix = (matrix - mean) / std\n",
        "\n",
        "print(normalized_matrix)"
      ],
      "metadata": {
        "id": "0L0IE4qOTZW4",
        "colab": {
          "base_uri": "https://localhost:8080/"
        },
        "outputId": "f7df1ca1-a446-4dfb-8d99-d01d65394faa"
      },
      "execution_count": null,
      "outputs": [
        {
          "output_type": "stream",
          "name": "stdout",
          "text": [
            "[[ 1.29449895  1.0303931  -1.11044386 -1.68789173  1.12548163]\n",
            " [ 0.09517922 -1.51844905 -0.27070859 -0.50830066 -0.76910344]\n",
            " [-0.43794901 -0.22567766  1.2896404  -1.02327423  1.10081433]\n",
            " [ 0.98923717  1.49343322  1.15796064 -1.34934121 -0.89056336]\n",
            " [ 1.03410886 -0.00325664  0.56201614 -0.60818971 -0.76961452]]\n"
          ]
        }
      ]
    },
    {
      "cell_type": "markdown",
      "source": [
        "### 17. Multiply a 5x3 matrix by a 3x2 matrix. (real matrix product)\n",
        "\n",
        "#### ✅출력 예시\n",
        "\n",
        "\n",
        "```\n",
        "[[3. 3.]\n",
        " [3. 3.]\n",
        " [3. 3.]\n",
        " [3. 3.]\n",
        " [3. 3.]]\n",
        "```"
      ],
      "metadata": {
        "id": "asOmp4b5M8dx"
      }
    },
    {
      "cell_type": "code",
      "source": [
        "matrix1 = np.ones((5,3))\n",
        "matrix2 = np.ones((3,2))\n",
        "result = np.dot(matrix1, matrix2)\n",
        "\n",
        "print(result)"
      ],
      "metadata": {
        "id": "01PxOWW5Te7I",
        "colab": {
          "base_uri": "https://localhost:8080/"
        },
        "outputId": "8e2e075c-0f3b-4702-e991-ef5f737cfe06"
      },
      "execution_count": null,
      "outputs": [
        {
          "output_type": "stream",
          "name": "stdout",
          "text": [
            "[[3. 3.]\n",
            " [3. 3.]\n",
            " [3. 3.]\n",
            " [3. 3.]\n",
            " [3. 3.]]\n"
          ]
        }
      ]
    },
    {
      "cell_type": "markdown",
      "source": [
        "### 18. What are the result of the following expressions?\n",
        "\n",
        "(실행 후, 결과에 대한 주석 작성해주세요. ex. 출력 결과에 대한 이유)\n",
        "\n",
        "```python\n",
        "np.array(0) / np.array(0)\n",
        "np.array(0) // np.array(0)\n",
        "np.array([np.nan]).astype(int).astype(float)\n",
        "```"
      ],
      "metadata": {
        "id": "H9zVpsYuM8aR"
      }
    },
    {
      "cell_type": "code",
      "source": [
        "np.array(0) / np.array(0) # 명확한 값이 존재하지 않기 때문에 nan이 나온다."
      ],
      "metadata": {
        "id": "SLP--cFwTh10",
        "colab": {
          "base_uri": "https://localhost:8080/"
        },
        "outputId": "2648ac3b-21b7-4393-870d-cc2d6a8fd2be"
      },
      "execution_count": null,
      "outputs": [
        {
          "output_type": "stream",
          "name": "stderr",
          "text": [
            "<ipython-input-23-12c8f54f9b6e>:1: RuntimeWarning: invalid value encountered in divide\n",
            "  np.array(0) / np.array(0) # 명확한 값이 존재하지 않기 때문에 nan이 나온다.\n"
          ]
        },
        {
          "output_type": "execute_result",
          "data": {
            "text/plain": [
              "nan"
            ]
          },
          "metadata": {},
          "execution_count": 23
        }
      ]
    },
    {
      "cell_type": "code",
      "source": [
        "np.array(0) // np.array(0) # C 언어 기반의 NumPy의 내부 처리 방식 때문에, 정수형 나눗셈(//) 연산에서는 0 // 0의 값이 0으로 나온다."
      ],
      "metadata": {
        "colab": {
          "base_uri": "https://localhost:8080/"
        },
        "id": "3NitHOSc_O_-",
        "outputId": "e5cc7c18-9b94-4e07-fa26-465bfde55585"
      },
      "execution_count": null,
      "outputs": [
        {
          "output_type": "stream",
          "name": "stderr",
          "text": [
            "<ipython-input-24-29c65adae845>:1: RuntimeWarning: divide by zero encountered in floor_divide\n",
            "  np.array(0) // np.array(0) # C 언어 기반의 NumPy의 내부 처리 방식 때문에, 정수형 나눗셈(//) 연산에서는 0 // 0의 값이 0으로 나온다.\n"
          ]
        },
        {
          "output_type": "execute_result",
          "data": {
            "text/plain": [
              "0"
            ]
          },
          "metadata": {},
          "execution_count": 24
        }
      ]
    },
    {
      "cell_type": "code",
      "source": [
        "np.array([np.nan]).astype(int).astype (float)\n",
        "# np.nan은 정수로 변환할 수 없는 값이므로, Numpy는 이를 최소 정수값으로 변환한다. 그리고 이 값을 float 형식으로 변환하는 것이다."
      ],
      "metadata": {
        "colab": {
          "base_uri": "https://localhost:8080/"
        },
        "id": "nNAGfTXm_QLU",
        "outputId": "f05aef6f-3b62-4843-8bb4-82ed15626a28"
      },
      "execution_count": null,
      "outputs": [
        {
          "output_type": "stream",
          "name": "stderr",
          "text": [
            "<ipython-input-25-3cbcfe508a4e>:1: RuntimeWarning: invalid value encountered in cast\n",
            "  np.array([np.nan]).astype(int).astype (float)\n"
          ]
        },
        {
          "output_type": "execute_result",
          "data": {
            "text/plain": [
              "array([-9.22337204e+18])"
            ]
          },
          "metadata": {},
          "execution_count": 25
        }
      ]
    },
    {
      "cell_type": "markdown",
      "source": [
        "### 19. Create a 5x5 matrix with row values ranging from 0 to 4.\n",
        "\n",
        "#### ✅ 출력 예시\n",
        "\n",
        "```\n",
        "[[0. 1. 2. 3. 4.]\n",
        " [0. 1. 2. 3. 4.]\n",
        " [0. 1. 2. 3. 4.]\n",
        " [0. 1. 2. 3. 4.]\n",
        " [0. 1. 2. 3. 4.]]\n",
        "```"
      ],
      "metadata": {
        "id": "fbi_T8LIO3yc"
      }
    },
    {
      "cell_type": "code",
      "source": [
        "matrix = np.tile(np.arange(5), (5, 1))\n",
        "# np.arange(5)를 5번 반복하여 row 생성, 1번 반복하여 column 생성\n",
        "\n",
        "print(matrix)"
      ],
      "metadata": {
        "id": "XHj8J0pLTjrf",
        "colab": {
          "base_uri": "https://localhost:8080/"
        },
        "outputId": "779a48fc-0903-4bdb-c3ab-f11c301b30be"
      },
      "execution_count": null,
      "outputs": [
        {
          "output_type": "stream",
          "name": "stdout",
          "text": [
            "[[0 1 2 3 4]\n",
            " [0 1 2 3 4]\n",
            " [0 1 2 3 4]\n",
            " [0 1 2 3 4]\n",
            " [0 1 2 3 4]]\n"
          ]
        }
      ]
    },
    {
      "cell_type": "markdown",
      "source": [
        "### 20. Create a random vector of size 10 and sort it.\n",
        "\n",
        "#### ✅출력 예시\n",
        "\n",
        "\n",
        "```\n",
        "[0.11443045 0.16715169 0.32515597 0.38374227 0.48327044 0.78728921\n",
        " 0.80523192 0.85915686 0.96930939 0.99586525]\n",
        "\n",
        "```"
      ],
      "metadata": {
        "id": "cNRIzEzEO_Ft"
      }
    },
    {
      "cell_type": "code",
      "source": [
        "random_matrix = np.random.rand(10)\n",
        "random_sort = random_matrix.sort()\n",
        "\n",
        "print(random_matrix)"
      ],
      "metadata": {
        "id": "a3lZxnx-Tngw",
        "colab": {
          "base_uri": "https://localhost:8080/"
        },
        "outputId": "df7cc6a0-9c37-4a68-d2f7-bb52b3c8a811"
      },
      "execution_count": null,
      "outputs": [
        {
          "output_type": "stream",
          "name": "stdout",
          "text": [
            "[0.20397898 0.3307539  0.39767325 0.44076418 0.49456719 0.58133514\n",
            " 0.60235864 0.85047393 0.94154538 0.9436053 ]\n"
          ]
        }
      ]
    },
    {
      "cell_type": "markdown",
      "source": [
        "## **판다스**"
      ],
      "metadata": {
        "id": "fkX-tY1oKDq5"
      }
    },
    {
      "cell_type": "markdown",
      "metadata": {
        "id": "yl7zlBgszyCS"
      },
      "source": [
        "\n",
        "### 1. Import pandas under the alias `pd`."
      ]
    },
    {
      "cell_type": "code",
      "source": [
        "import pandas as pd"
      ],
      "metadata": {
        "id": "ZiANPeHhz00W"
      },
      "execution_count": null,
      "outputs": []
    },
    {
      "cell_type": "markdown",
      "metadata": {
        "id": "2Hk3SuquzyCU"
      },
      "source": [
        "### 2. Print the version of pandas that has been imported."
      ]
    },
    {
      "cell_type": "code",
      "source": [
        "print(pd.__version__)"
      ],
      "metadata": {
        "id": "i2NtsBbjz1x2",
        "colab": {
          "base_uri": "https://localhost:8080/"
        },
        "outputId": "3211171e-7e0d-4561-fae5-c2e9a484b97a"
      },
      "execution_count": null,
      "outputs": [
        {
          "output_type": "stream",
          "name": "stdout",
          "text": [
            "2.2.2\n"
          ]
        }
      ]
    },
    {
      "cell_type": "markdown",
      "metadata": {
        "id": "oOTRFQtFzyCV"
      },
      "source": [
        "## 3~20번 문제는 아래 데이터프레임으로 진행됩니다.\n",
        "\n",
        "Consider the following Python dictionary `data` and Python list `labels`:\n",
        "\n",
        "``` python\n",
        "data = {'animal': ['cat', 'cat', 'snake', 'dog', 'dog', 'cat', 'snake', 'cat', 'dog', 'dog'],\n",
        "        'age': [2.5, 3, 0.5, np.nan, 5, 2, 4.5, np.nan, 7, 3],\n",
        "        'visits': [1, 3, 2, 3, 2, 3, 1, 1, 2, 1],\n",
        "        'priority': ['yes', 'yes', 'no', 'yes', 'no', 'no', 'no', 'yes', 'no', 'no']}\n",
        "\n",
        "labels = ['a', 'b', 'c', 'd', 'e', 'f', 'g', 'h', 'i', 'j']\n",
        "```\n"
      ]
    },
    {
      "cell_type": "markdown",
      "source": [
        "### 3. Create a DataFrame `df` from this dictionary `data` which has the index `labels`.\n"
      ],
      "metadata": {
        "id": "m_8US0jJzyCW"
      }
    },
    {
      "cell_type": "code",
      "execution_count": null,
      "metadata": {
        "id": "7CbS_gtmzyCW",
        "colab": {
          "base_uri": "https://localhost:8080/"
        },
        "outputId": "76b346d1-94ae-4bf5-91b2-919600ec5fe8"
      },
      "outputs": [
        {
          "output_type": "stream",
          "name": "stdout",
          "text": [
            "  animal  age  visits priority\n",
            "a    cat  2.5       1      yes\n",
            "b    cat  3.0       3      yes\n",
            "c  snake  0.5       2       no\n",
            "d    dog  NaN       3      yes\n",
            "e    dog  5.0       2       no\n",
            "f    cat  2.0       3       no\n",
            "g  snake  4.5       1       no\n",
            "h    cat  NaN       1      yes\n",
            "i    dog  7.0       2       no\n",
            "j    dog  3.0       1       no\n"
          ]
        }
      ],
      "source": [
        "# 문제 풀이 전 numpy 임포트\n",
        "import numpy as np\n",
        "\n",
        "data = {'animal': ['cat', 'cat', 'snake', 'dog', 'dog', 'cat', 'snake', 'cat', 'dog', 'dog'],\n",
        "        'age': [2.5, 3, 0.5, np.nan, 5, 2, 4.5, np.nan, 7, 3],\n",
        "        'visits': [1, 3, 2, 3, 2, 3, 1, 1, 2, 1],\n",
        "        'priority': ['yes', 'yes', 'no', 'yes', 'no', 'no', 'no', 'yes', 'no', 'no']}\n",
        "\n",
        "labels = ['a', 'b', 'c', 'd', 'e', 'f', 'g', 'h', 'i', 'j']\n",
        "\n",
        "df = pd.DataFrame(data, index=labels)\n",
        "\n",
        "print(df)"
      ]
    },
    {
      "cell_type": "markdown",
      "metadata": {
        "id": "f2shsFGyzyCW"
      },
      "source": [
        "### 4. Display a summary of the basic information about this DataFrame and its data.  \n",
        "(hint: there is a single method that can be called on the DataFrame)"
      ]
    },
    {
      "cell_type": "code",
      "source": [
        "df.info()"
      ],
      "metadata": {
        "id": "BWZpEuGtz7ky",
        "colab": {
          "base_uri": "https://localhost:8080/"
        },
        "outputId": "37ba8006-6ce5-4af2-8fc8-99356f09491e"
      },
      "execution_count": null,
      "outputs": [
        {
          "output_type": "stream",
          "name": "stdout",
          "text": [
            "<class 'pandas.core.frame.DataFrame'>\n",
            "Index: 10 entries, a to j\n",
            "Data columns (total 4 columns):\n",
            " #   Column    Non-Null Count  Dtype  \n",
            "---  ------    --------------  -----  \n",
            " 0   animal    10 non-null     object \n",
            " 1   age       8 non-null      float64\n",
            " 2   visits    10 non-null     int64  \n",
            " 3   priority  10 non-null     object \n",
            "dtypes: float64(1), int64(1), object(2)\n",
            "memory usage: 400.0+ bytes\n"
          ]
        }
      ]
    },
    {
      "cell_type": "markdown",
      "source": [
        "### 5. Display a summary of the basic statistics about data of this DataFrame.  \n",
        "(hint: there is a single method that can be called on the DataFrame)"
      ],
      "metadata": {
        "id": "AfbkaEOyzyCX"
      }
    },
    {
      "cell_type": "code",
      "source": [
        "df.describe()"
      ],
      "metadata": {
        "id": "wzzc100Oz8c3",
        "colab": {
          "base_uri": "https://localhost:8080/",
          "height": 300
        },
        "outputId": "c64be41d-3b4f-4402-cd47-f0cb6f75c480"
      },
      "execution_count": null,
      "outputs": [
        {
          "output_type": "execute_result",
          "data": {
            "text/plain": [
              "            age     visits\n",
              "count  8.000000  10.000000\n",
              "mean   3.437500   1.900000\n",
              "std    2.007797   0.875595\n",
              "min    0.500000   1.000000\n",
              "25%    2.375000   1.000000\n",
              "50%    3.000000   2.000000\n",
              "75%    4.625000   2.750000\n",
              "max    7.000000   3.000000"
            ],
            "text/html": [
              "\n",
              "  <div id=\"df-dbcd5722-4a5d-45f8-ae77-b9ebf19257ac\" class=\"colab-df-container\">\n",
              "    <div>\n",
              "<style scoped>\n",
              "    .dataframe tbody tr th:only-of-type {\n",
              "        vertical-align: middle;\n",
              "    }\n",
              "\n",
              "    .dataframe tbody tr th {\n",
              "        vertical-align: top;\n",
              "    }\n",
              "\n",
              "    .dataframe thead th {\n",
              "        text-align: right;\n",
              "    }\n",
              "</style>\n",
              "<table border=\"1\" class=\"dataframe\">\n",
              "  <thead>\n",
              "    <tr style=\"text-align: right;\">\n",
              "      <th></th>\n",
              "      <th>age</th>\n",
              "      <th>visits</th>\n",
              "    </tr>\n",
              "  </thead>\n",
              "  <tbody>\n",
              "    <tr>\n",
              "      <th>count</th>\n",
              "      <td>8.000000</td>\n",
              "      <td>10.000000</td>\n",
              "    </tr>\n",
              "    <tr>\n",
              "      <th>mean</th>\n",
              "      <td>3.437500</td>\n",
              "      <td>1.900000</td>\n",
              "    </tr>\n",
              "    <tr>\n",
              "      <th>std</th>\n",
              "      <td>2.007797</td>\n",
              "      <td>0.875595</td>\n",
              "    </tr>\n",
              "    <tr>\n",
              "      <th>min</th>\n",
              "      <td>0.500000</td>\n",
              "      <td>1.000000</td>\n",
              "    </tr>\n",
              "    <tr>\n",
              "      <th>25%</th>\n",
              "      <td>2.375000</td>\n",
              "      <td>1.000000</td>\n",
              "    </tr>\n",
              "    <tr>\n",
              "      <th>50%</th>\n",
              "      <td>3.000000</td>\n",
              "      <td>2.000000</td>\n",
              "    </tr>\n",
              "    <tr>\n",
              "      <th>75%</th>\n",
              "      <td>4.625000</td>\n",
              "      <td>2.750000</td>\n",
              "    </tr>\n",
              "    <tr>\n",
              "      <th>max</th>\n",
              "      <td>7.000000</td>\n",
              "      <td>3.000000</td>\n",
              "    </tr>\n",
              "  </tbody>\n",
              "</table>\n",
              "</div>\n",
              "    <div class=\"colab-df-buttons\">\n",
              "\n",
              "  <div class=\"colab-df-container\">\n",
              "    <button class=\"colab-df-convert\" onclick=\"convertToInteractive('df-dbcd5722-4a5d-45f8-ae77-b9ebf19257ac')\"\n",
              "            title=\"Convert this dataframe to an interactive table.\"\n",
              "            style=\"display:none;\">\n",
              "\n",
              "  <svg xmlns=\"http://www.w3.org/2000/svg\" height=\"24px\" viewBox=\"0 -960 960 960\">\n",
              "    <path d=\"M120-120v-720h720v720H120Zm60-500h600v-160H180v160Zm220 220h160v-160H400v160Zm0 220h160v-160H400v160ZM180-400h160v-160H180v160Zm440 0h160v-160H620v160ZM180-180h160v-160H180v160Zm440 0h160v-160H620v160Z\"/>\n",
              "  </svg>\n",
              "    </button>\n",
              "\n",
              "  <style>\n",
              "    .colab-df-container {\n",
              "      display:flex;\n",
              "      gap: 12px;\n",
              "    }\n",
              "\n",
              "    .colab-df-convert {\n",
              "      background-color: #E8F0FE;\n",
              "      border: none;\n",
              "      border-radius: 50%;\n",
              "      cursor: pointer;\n",
              "      display: none;\n",
              "      fill: #1967D2;\n",
              "      height: 32px;\n",
              "      padding: 0 0 0 0;\n",
              "      width: 32px;\n",
              "    }\n",
              "\n",
              "    .colab-df-convert:hover {\n",
              "      background-color: #E2EBFA;\n",
              "      box-shadow: 0px 1px 2px rgba(60, 64, 67, 0.3), 0px 1px 3px 1px rgba(60, 64, 67, 0.15);\n",
              "      fill: #174EA6;\n",
              "    }\n",
              "\n",
              "    .colab-df-buttons div {\n",
              "      margin-bottom: 4px;\n",
              "    }\n",
              "\n",
              "    [theme=dark] .colab-df-convert {\n",
              "      background-color: #3B4455;\n",
              "      fill: #D2E3FC;\n",
              "    }\n",
              "\n",
              "    [theme=dark] .colab-df-convert:hover {\n",
              "      background-color: #434B5C;\n",
              "      box-shadow: 0px 1px 3px 1px rgba(0, 0, 0, 0.15);\n",
              "      filter: drop-shadow(0px 1px 2px rgba(0, 0, 0, 0.3));\n",
              "      fill: #FFFFFF;\n",
              "    }\n",
              "  </style>\n",
              "\n",
              "    <script>\n",
              "      const buttonEl =\n",
              "        document.querySelector('#df-dbcd5722-4a5d-45f8-ae77-b9ebf19257ac button.colab-df-convert');\n",
              "      buttonEl.style.display =\n",
              "        google.colab.kernel.accessAllowed ? 'block' : 'none';\n",
              "\n",
              "      async function convertToInteractive(key) {\n",
              "        const element = document.querySelector('#df-dbcd5722-4a5d-45f8-ae77-b9ebf19257ac');\n",
              "        const dataTable =\n",
              "          await google.colab.kernel.invokeFunction('convertToInteractive',\n",
              "                                                    [key], {});\n",
              "        if (!dataTable) return;\n",
              "\n",
              "        const docLinkHtml = 'Like what you see? Visit the ' +\n",
              "          '<a target=\"_blank\" href=https://colab.research.google.com/notebooks/data_table.ipynb>data table notebook</a>'\n",
              "          + ' to learn more about interactive tables.';\n",
              "        element.innerHTML = '';\n",
              "        dataTable['output_type'] = 'display_data';\n",
              "        await google.colab.output.renderOutput(dataTable, element);\n",
              "        const docLink = document.createElement('div');\n",
              "        docLink.innerHTML = docLinkHtml;\n",
              "        element.appendChild(docLink);\n",
              "      }\n",
              "    </script>\n",
              "  </div>\n",
              "\n",
              "\n",
              "<div id=\"df-127050fc-0ba7-4fdc-984b-439ba3f428a3\">\n",
              "  <button class=\"colab-df-quickchart\" onclick=\"quickchart('df-127050fc-0ba7-4fdc-984b-439ba3f428a3')\"\n",
              "            title=\"Suggest charts\"\n",
              "            style=\"display:none;\">\n",
              "\n",
              "<svg xmlns=\"http://www.w3.org/2000/svg\" height=\"24px\"viewBox=\"0 0 24 24\"\n",
              "     width=\"24px\">\n",
              "    <g>\n",
              "        <path d=\"M19 3H5c-1.1 0-2 .9-2 2v14c0 1.1.9 2 2 2h14c1.1 0 2-.9 2-2V5c0-1.1-.9-2-2-2zM9 17H7v-7h2v7zm4 0h-2V7h2v10zm4 0h-2v-4h2v4z\"/>\n",
              "    </g>\n",
              "</svg>\n",
              "  </button>\n",
              "\n",
              "<style>\n",
              "  .colab-df-quickchart {\n",
              "      --bg-color: #E8F0FE;\n",
              "      --fill-color: #1967D2;\n",
              "      --hover-bg-color: #E2EBFA;\n",
              "      --hover-fill-color: #174EA6;\n",
              "      --disabled-fill-color: #AAA;\n",
              "      --disabled-bg-color: #DDD;\n",
              "  }\n",
              "\n",
              "  [theme=dark] .colab-df-quickchart {\n",
              "      --bg-color: #3B4455;\n",
              "      --fill-color: #D2E3FC;\n",
              "      --hover-bg-color: #434B5C;\n",
              "      --hover-fill-color: #FFFFFF;\n",
              "      --disabled-bg-color: #3B4455;\n",
              "      --disabled-fill-color: #666;\n",
              "  }\n",
              "\n",
              "  .colab-df-quickchart {\n",
              "    background-color: var(--bg-color);\n",
              "    border: none;\n",
              "    border-radius: 50%;\n",
              "    cursor: pointer;\n",
              "    display: none;\n",
              "    fill: var(--fill-color);\n",
              "    height: 32px;\n",
              "    padding: 0;\n",
              "    width: 32px;\n",
              "  }\n",
              "\n",
              "  .colab-df-quickchart:hover {\n",
              "    background-color: var(--hover-bg-color);\n",
              "    box-shadow: 0 1px 2px rgba(60, 64, 67, 0.3), 0 1px 3px 1px rgba(60, 64, 67, 0.15);\n",
              "    fill: var(--button-hover-fill-color);\n",
              "  }\n",
              "\n",
              "  .colab-df-quickchart-complete:disabled,\n",
              "  .colab-df-quickchart-complete:disabled:hover {\n",
              "    background-color: var(--disabled-bg-color);\n",
              "    fill: var(--disabled-fill-color);\n",
              "    box-shadow: none;\n",
              "  }\n",
              "\n",
              "  .colab-df-spinner {\n",
              "    border: 2px solid var(--fill-color);\n",
              "    border-color: transparent;\n",
              "    border-bottom-color: var(--fill-color);\n",
              "    animation:\n",
              "      spin 1s steps(1) infinite;\n",
              "  }\n",
              "\n",
              "  @keyframes spin {\n",
              "    0% {\n",
              "      border-color: transparent;\n",
              "      border-bottom-color: var(--fill-color);\n",
              "      border-left-color: var(--fill-color);\n",
              "    }\n",
              "    20% {\n",
              "      border-color: transparent;\n",
              "      border-left-color: var(--fill-color);\n",
              "      border-top-color: var(--fill-color);\n",
              "    }\n",
              "    30% {\n",
              "      border-color: transparent;\n",
              "      border-left-color: var(--fill-color);\n",
              "      border-top-color: var(--fill-color);\n",
              "      border-right-color: var(--fill-color);\n",
              "    }\n",
              "    40% {\n",
              "      border-color: transparent;\n",
              "      border-right-color: var(--fill-color);\n",
              "      border-top-color: var(--fill-color);\n",
              "    }\n",
              "    60% {\n",
              "      border-color: transparent;\n",
              "      border-right-color: var(--fill-color);\n",
              "    }\n",
              "    80% {\n",
              "      border-color: transparent;\n",
              "      border-right-color: var(--fill-color);\n",
              "      border-bottom-color: var(--fill-color);\n",
              "    }\n",
              "    90% {\n",
              "      border-color: transparent;\n",
              "      border-bottom-color: var(--fill-color);\n",
              "    }\n",
              "  }\n",
              "</style>\n",
              "\n",
              "  <script>\n",
              "    async function quickchart(key) {\n",
              "      const quickchartButtonEl =\n",
              "        document.querySelector('#' + key + ' button');\n",
              "      quickchartButtonEl.disabled = true;  // To prevent multiple clicks.\n",
              "      quickchartButtonEl.classList.add('colab-df-spinner');\n",
              "      try {\n",
              "        const charts = await google.colab.kernel.invokeFunction(\n",
              "            'suggestCharts', [key], {});\n",
              "      } catch (error) {\n",
              "        console.error('Error during call to suggestCharts:', error);\n",
              "      }\n",
              "      quickchartButtonEl.classList.remove('colab-df-spinner');\n",
              "      quickchartButtonEl.classList.add('colab-df-quickchart-complete');\n",
              "    }\n",
              "    (() => {\n",
              "      let quickchartButtonEl =\n",
              "        document.querySelector('#df-127050fc-0ba7-4fdc-984b-439ba3f428a3 button');\n",
              "      quickchartButtonEl.style.display =\n",
              "        google.colab.kernel.accessAllowed ? 'block' : 'none';\n",
              "    })();\n",
              "  </script>\n",
              "</div>\n",
              "\n",
              "    </div>\n",
              "  </div>\n"
            ],
            "application/vnd.google.colaboratory.intrinsic+json": {
              "type": "dataframe",
              "summary": "{\n  \"name\": \"df\",\n  \"rows\": 8,\n  \"fields\": [\n    {\n      \"column\": \"age\",\n      \"properties\": {\n        \"dtype\": \"number\",\n        \"std\": 2.5474771307751376,\n        \"min\": 0.5,\n        \"max\": 8.0,\n        \"num_unique_values\": 8,\n        \"samples\": [\n          3.4375,\n          3.0,\n          8.0\n        ],\n        \"semantic_type\": \"\",\n        \"description\": \"\"\n      }\n    },\n    {\n      \"column\": \"visits\",\n      \"properties\": {\n        \"dtype\": \"number\",\n        \"std\": 3.0122099789789663,\n        \"min\": 0.8755950357709131,\n        \"max\": 10.0,\n        \"num_unique_values\": 7,\n        \"samples\": [\n          10.0,\n          1.9,\n          2.75\n        ],\n        \"semantic_type\": \"\",\n        \"description\": \"\"\n      }\n    }\n  ]\n}"
            }
          },
          "metadata": {},
          "execution_count": 32
        }
      ]
    },
    {
      "cell_type": "markdown",
      "metadata": {
        "id": "XJ59aPcrzyCX"
      },
      "source": [
        "### 6. Return the first 3 rows of the DataFrame `df`."
      ]
    },
    {
      "cell_type": "code",
      "source": [
        "df.head(3)"
      ],
      "metadata": {
        "id": "vZro7sh9z_rY",
        "colab": {
          "base_uri": "https://localhost:8080/",
          "height": 143
        },
        "outputId": "f82381c9-c1ef-4d54-ba88-dbac07db2e3c"
      },
      "execution_count": null,
      "outputs": [
        {
          "output_type": "execute_result",
          "data": {
            "text/plain": [
              "  animal  age  visits priority\n",
              "a    cat  2.5       1      yes\n",
              "b    cat  3.0       3      yes\n",
              "c  snake  0.5       2       no"
            ],
            "text/html": [
              "\n",
              "  <div id=\"df-e333b423-21d6-4fa0-815a-bd4ae5821e47\" class=\"colab-df-container\">\n",
              "    <div>\n",
              "<style scoped>\n",
              "    .dataframe tbody tr th:only-of-type {\n",
              "        vertical-align: middle;\n",
              "    }\n",
              "\n",
              "    .dataframe tbody tr th {\n",
              "        vertical-align: top;\n",
              "    }\n",
              "\n",
              "    .dataframe thead th {\n",
              "        text-align: right;\n",
              "    }\n",
              "</style>\n",
              "<table border=\"1\" class=\"dataframe\">\n",
              "  <thead>\n",
              "    <tr style=\"text-align: right;\">\n",
              "      <th></th>\n",
              "      <th>animal</th>\n",
              "      <th>age</th>\n",
              "      <th>visits</th>\n",
              "      <th>priority</th>\n",
              "    </tr>\n",
              "  </thead>\n",
              "  <tbody>\n",
              "    <tr>\n",
              "      <th>a</th>\n",
              "      <td>cat</td>\n",
              "      <td>2.5</td>\n",
              "      <td>1</td>\n",
              "      <td>yes</td>\n",
              "    </tr>\n",
              "    <tr>\n",
              "      <th>b</th>\n",
              "      <td>cat</td>\n",
              "      <td>3.0</td>\n",
              "      <td>3</td>\n",
              "      <td>yes</td>\n",
              "    </tr>\n",
              "    <tr>\n",
              "      <th>c</th>\n",
              "      <td>snake</td>\n",
              "      <td>0.5</td>\n",
              "      <td>2</td>\n",
              "      <td>no</td>\n",
              "    </tr>\n",
              "  </tbody>\n",
              "</table>\n",
              "</div>\n",
              "    <div class=\"colab-df-buttons\">\n",
              "\n",
              "  <div class=\"colab-df-container\">\n",
              "    <button class=\"colab-df-convert\" onclick=\"convertToInteractive('df-e333b423-21d6-4fa0-815a-bd4ae5821e47')\"\n",
              "            title=\"Convert this dataframe to an interactive table.\"\n",
              "            style=\"display:none;\">\n",
              "\n",
              "  <svg xmlns=\"http://www.w3.org/2000/svg\" height=\"24px\" viewBox=\"0 -960 960 960\">\n",
              "    <path d=\"M120-120v-720h720v720H120Zm60-500h600v-160H180v160Zm220 220h160v-160H400v160Zm0 220h160v-160H400v160ZM180-400h160v-160H180v160Zm440 0h160v-160H620v160ZM180-180h160v-160H180v160Zm440 0h160v-160H620v160Z\"/>\n",
              "  </svg>\n",
              "    </button>\n",
              "\n",
              "  <style>\n",
              "    .colab-df-container {\n",
              "      display:flex;\n",
              "      gap: 12px;\n",
              "    }\n",
              "\n",
              "    .colab-df-convert {\n",
              "      background-color: #E8F0FE;\n",
              "      border: none;\n",
              "      border-radius: 50%;\n",
              "      cursor: pointer;\n",
              "      display: none;\n",
              "      fill: #1967D2;\n",
              "      height: 32px;\n",
              "      padding: 0 0 0 0;\n",
              "      width: 32px;\n",
              "    }\n",
              "\n",
              "    .colab-df-convert:hover {\n",
              "      background-color: #E2EBFA;\n",
              "      box-shadow: 0px 1px 2px rgba(60, 64, 67, 0.3), 0px 1px 3px 1px rgba(60, 64, 67, 0.15);\n",
              "      fill: #174EA6;\n",
              "    }\n",
              "\n",
              "    .colab-df-buttons div {\n",
              "      margin-bottom: 4px;\n",
              "    }\n",
              "\n",
              "    [theme=dark] .colab-df-convert {\n",
              "      background-color: #3B4455;\n",
              "      fill: #D2E3FC;\n",
              "    }\n",
              "\n",
              "    [theme=dark] .colab-df-convert:hover {\n",
              "      background-color: #434B5C;\n",
              "      box-shadow: 0px 1px 3px 1px rgba(0, 0, 0, 0.15);\n",
              "      filter: drop-shadow(0px 1px 2px rgba(0, 0, 0, 0.3));\n",
              "      fill: #FFFFFF;\n",
              "    }\n",
              "  </style>\n",
              "\n",
              "    <script>\n",
              "      const buttonEl =\n",
              "        document.querySelector('#df-e333b423-21d6-4fa0-815a-bd4ae5821e47 button.colab-df-convert');\n",
              "      buttonEl.style.display =\n",
              "        google.colab.kernel.accessAllowed ? 'block' : 'none';\n",
              "\n",
              "      async function convertToInteractive(key) {\n",
              "        const element = document.querySelector('#df-e333b423-21d6-4fa0-815a-bd4ae5821e47');\n",
              "        const dataTable =\n",
              "          await google.colab.kernel.invokeFunction('convertToInteractive',\n",
              "                                                    [key], {});\n",
              "        if (!dataTable) return;\n",
              "\n",
              "        const docLinkHtml = 'Like what you see? Visit the ' +\n",
              "          '<a target=\"_blank\" href=https://colab.research.google.com/notebooks/data_table.ipynb>data table notebook</a>'\n",
              "          + ' to learn more about interactive tables.';\n",
              "        element.innerHTML = '';\n",
              "        dataTable['output_type'] = 'display_data';\n",
              "        await google.colab.output.renderOutput(dataTable, element);\n",
              "        const docLink = document.createElement('div');\n",
              "        docLink.innerHTML = docLinkHtml;\n",
              "        element.appendChild(docLink);\n",
              "      }\n",
              "    </script>\n",
              "  </div>\n",
              "\n",
              "\n",
              "<div id=\"df-b83e325f-54ec-4fca-8685-2d331dc95f74\">\n",
              "  <button class=\"colab-df-quickchart\" onclick=\"quickchart('df-b83e325f-54ec-4fca-8685-2d331dc95f74')\"\n",
              "            title=\"Suggest charts\"\n",
              "            style=\"display:none;\">\n",
              "\n",
              "<svg xmlns=\"http://www.w3.org/2000/svg\" height=\"24px\"viewBox=\"0 0 24 24\"\n",
              "     width=\"24px\">\n",
              "    <g>\n",
              "        <path d=\"M19 3H5c-1.1 0-2 .9-2 2v14c0 1.1.9 2 2 2h14c1.1 0 2-.9 2-2V5c0-1.1-.9-2-2-2zM9 17H7v-7h2v7zm4 0h-2V7h2v10zm4 0h-2v-4h2v4z\"/>\n",
              "    </g>\n",
              "</svg>\n",
              "  </button>\n",
              "\n",
              "<style>\n",
              "  .colab-df-quickchart {\n",
              "      --bg-color: #E8F0FE;\n",
              "      --fill-color: #1967D2;\n",
              "      --hover-bg-color: #E2EBFA;\n",
              "      --hover-fill-color: #174EA6;\n",
              "      --disabled-fill-color: #AAA;\n",
              "      --disabled-bg-color: #DDD;\n",
              "  }\n",
              "\n",
              "  [theme=dark] .colab-df-quickchart {\n",
              "      --bg-color: #3B4455;\n",
              "      --fill-color: #D2E3FC;\n",
              "      --hover-bg-color: #434B5C;\n",
              "      --hover-fill-color: #FFFFFF;\n",
              "      --disabled-bg-color: #3B4455;\n",
              "      --disabled-fill-color: #666;\n",
              "  }\n",
              "\n",
              "  .colab-df-quickchart {\n",
              "    background-color: var(--bg-color);\n",
              "    border: none;\n",
              "    border-radius: 50%;\n",
              "    cursor: pointer;\n",
              "    display: none;\n",
              "    fill: var(--fill-color);\n",
              "    height: 32px;\n",
              "    padding: 0;\n",
              "    width: 32px;\n",
              "  }\n",
              "\n",
              "  .colab-df-quickchart:hover {\n",
              "    background-color: var(--hover-bg-color);\n",
              "    box-shadow: 0 1px 2px rgba(60, 64, 67, 0.3), 0 1px 3px 1px rgba(60, 64, 67, 0.15);\n",
              "    fill: var(--button-hover-fill-color);\n",
              "  }\n",
              "\n",
              "  .colab-df-quickchart-complete:disabled,\n",
              "  .colab-df-quickchart-complete:disabled:hover {\n",
              "    background-color: var(--disabled-bg-color);\n",
              "    fill: var(--disabled-fill-color);\n",
              "    box-shadow: none;\n",
              "  }\n",
              "\n",
              "  .colab-df-spinner {\n",
              "    border: 2px solid var(--fill-color);\n",
              "    border-color: transparent;\n",
              "    border-bottom-color: var(--fill-color);\n",
              "    animation:\n",
              "      spin 1s steps(1) infinite;\n",
              "  }\n",
              "\n",
              "  @keyframes spin {\n",
              "    0% {\n",
              "      border-color: transparent;\n",
              "      border-bottom-color: var(--fill-color);\n",
              "      border-left-color: var(--fill-color);\n",
              "    }\n",
              "    20% {\n",
              "      border-color: transparent;\n",
              "      border-left-color: var(--fill-color);\n",
              "      border-top-color: var(--fill-color);\n",
              "    }\n",
              "    30% {\n",
              "      border-color: transparent;\n",
              "      border-left-color: var(--fill-color);\n",
              "      border-top-color: var(--fill-color);\n",
              "      border-right-color: var(--fill-color);\n",
              "    }\n",
              "    40% {\n",
              "      border-color: transparent;\n",
              "      border-right-color: var(--fill-color);\n",
              "      border-top-color: var(--fill-color);\n",
              "    }\n",
              "    60% {\n",
              "      border-color: transparent;\n",
              "      border-right-color: var(--fill-color);\n",
              "    }\n",
              "    80% {\n",
              "      border-color: transparent;\n",
              "      border-right-color: var(--fill-color);\n",
              "      border-bottom-color: var(--fill-color);\n",
              "    }\n",
              "    90% {\n",
              "      border-color: transparent;\n",
              "      border-bottom-color: var(--fill-color);\n",
              "    }\n",
              "  }\n",
              "</style>\n",
              "\n",
              "  <script>\n",
              "    async function quickchart(key) {\n",
              "      const quickchartButtonEl =\n",
              "        document.querySelector('#' + key + ' button');\n",
              "      quickchartButtonEl.disabled = true;  // To prevent multiple clicks.\n",
              "      quickchartButtonEl.classList.add('colab-df-spinner');\n",
              "      try {\n",
              "        const charts = await google.colab.kernel.invokeFunction(\n",
              "            'suggestCharts', [key], {});\n",
              "      } catch (error) {\n",
              "        console.error('Error during call to suggestCharts:', error);\n",
              "      }\n",
              "      quickchartButtonEl.classList.remove('colab-df-spinner');\n",
              "      quickchartButtonEl.classList.add('colab-df-quickchart-complete');\n",
              "    }\n",
              "    (() => {\n",
              "      let quickchartButtonEl =\n",
              "        document.querySelector('#df-b83e325f-54ec-4fca-8685-2d331dc95f74 button');\n",
              "      quickchartButtonEl.style.display =\n",
              "        google.colab.kernel.accessAllowed ? 'block' : 'none';\n",
              "    })();\n",
              "  </script>\n",
              "</div>\n",
              "\n",
              "    </div>\n",
              "  </div>\n"
            ],
            "application/vnd.google.colaboratory.intrinsic+json": {
              "type": "dataframe",
              "variable_name": "df",
              "summary": "{\n  \"name\": \"df\",\n  \"rows\": 10,\n  \"fields\": [\n    {\n      \"column\": \"animal\",\n      \"properties\": {\n        \"dtype\": \"category\",\n        \"num_unique_values\": 3,\n        \"samples\": [\n          \"cat\",\n          \"snake\",\n          \"dog\"\n        ],\n        \"semantic_type\": \"\",\n        \"description\": \"\"\n      }\n    },\n    {\n      \"column\": \"age\",\n      \"properties\": {\n        \"dtype\": \"number\",\n        \"std\": 2.0077973005261263,\n        \"min\": 0.5,\n        \"max\": 7.0,\n        \"num_unique_values\": 7,\n        \"samples\": [\n          2.5,\n          3.0,\n          4.5\n        ],\n        \"semantic_type\": \"\",\n        \"description\": \"\"\n      }\n    },\n    {\n      \"column\": \"visits\",\n      \"properties\": {\n        \"dtype\": \"number\",\n        \"std\": 0,\n        \"min\": 1,\n        \"max\": 3,\n        \"num_unique_values\": 3,\n        \"samples\": [\n          1,\n          3,\n          2\n        ],\n        \"semantic_type\": \"\",\n        \"description\": \"\"\n      }\n    },\n    {\n      \"column\": \"priority\",\n      \"properties\": {\n        \"dtype\": \"category\",\n        \"num_unique_values\": 2,\n        \"samples\": [\n          \"no\",\n          \"yes\"\n        ],\n        \"semantic_type\": \"\",\n        \"description\": \"\"\n      }\n    }\n  ]\n}"
            }
          },
          "metadata": {},
          "execution_count": 33
        }
      ]
    },
    {
      "cell_type": "markdown",
      "metadata": {
        "id": "KBVp0_3ZzyCY"
      },
      "source": [
        "### 7. Select just the 'animal' and 'age' columns from the DataFrame `df`."
      ]
    },
    {
      "cell_type": "code",
      "source": [
        "select_column = df[['animal','age']]\n",
        "\n",
        "print(select_column)"
      ],
      "metadata": {
        "id": "pC6sH-1F0AJo",
        "colab": {
          "base_uri": "https://localhost:8080/"
        },
        "outputId": "ac490a5e-a12e-491f-86dc-7b1aa5f54acf"
      },
      "execution_count": null,
      "outputs": [
        {
          "output_type": "stream",
          "name": "stdout",
          "text": [
            "  animal  age\n",
            "a    cat  2.5\n",
            "b    cat  3.0\n",
            "c  snake  0.5\n",
            "d    dog  NaN\n",
            "e    dog  5.0\n",
            "f    cat  2.0\n",
            "g  snake  4.5\n",
            "h    cat  NaN\n",
            "i    dog  7.0\n",
            "j    dog  3.0\n"
          ]
        }
      ]
    },
    {
      "cell_type": "markdown",
      "metadata": {
        "id": "a1giftRYzyCY"
      },
      "source": [
        "### 8. Select the data in rows `[3, 4, 8]` **and** in columns `['animal', 'age']`."
      ]
    },
    {
      "cell_type": "code",
      "source": [
        "select_data2 = df.iloc[[3,4,8],[0,1]]\n",
        "\n",
        "print(select_data2)\n"
      ],
      "metadata": {
        "id": "tkSynFGH0BLD",
        "colab": {
          "base_uri": "https://localhost:8080/"
        },
        "outputId": "582f1b14-9506-456f-871f-1d675a1705b4"
      },
      "execution_count": null,
      "outputs": [
        {
          "output_type": "stream",
          "name": "stdout",
          "text": [
            "  animal  age\n",
            "d    dog  NaN\n",
            "e    dog  5.0\n",
            "i    dog  7.0\n"
          ]
        }
      ]
    },
    {
      "cell_type": "markdown",
      "metadata": {
        "id": "67sYTLBqzyCY"
      },
      "source": [
        "### 9. Select only the rows where the number of visits is greater than 3."
      ]
    },
    {
      "cell_type": "code",
      "source": [
        "df[df['visits'] > 3]\n",
        "# visits 값이 3보다 큰 값이 없으므로 빈 DataFrame이 출력됨."
      ],
      "metadata": {
        "id": "d_G0WeMG0Dgd",
        "colab": {
          "base_uri": "https://localhost:8080/",
          "height": 53
        },
        "outputId": "dbbccd28-064f-40bd-f8f7-c3eb3704c1d4"
      },
      "execution_count": null,
      "outputs": [
        {
          "output_type": "execute_result",
          "data": {
            "text/plain": [
              "Empty DataFrame\n",
              "Columns: [animal, age, visits, priority]\n",
              "Index: []"
            ],
            "text/html": [
              "\n",
              "  <div id=\"df-18cbab90-a65d-4997-aad1-d419cc1d60a6\" class=\"colab-df-container\">\n",
              "    <div>\n",
              "<style scoped>\n",
              "    .dataframe tbody tr th:only-of-type {\n",
              "        vertical-align: middle;\n",
              "    }\n",
              "\n",
              "    .dataframe tbody tr th {\n",
              "        vertical-align: top;\n",
              "    }\n",
              "\n",
              "    .dataframe thead th {\n",
              "        text-align: right;\n",
              "    }\n",
              "</style>\n",
              "<table border=\"1\" class=\"dataframe\">\n",
              "  <thead>\n",
              "    <tr style=\"text-align: right;\">\n",
              "      <th></th>\n",
              "      <th>animal</th>\n",
              "      <th>age</th>\n",
              "      <th>visits</th>\n",
              "      <th>priority</th>\n",
              "    </tr>\n",
              "  </thead>\n",
              "  <tbody>\n",
              "  </tbody>\n",
              "</table>\n",
              "</div>\n",
              "    <div class=\"colab-df-buttons\">\n",
              "\n",
              "  <div class=\"colab-df-container\">\n",
              "    <button class=\"colab-df-convert\" onclick=\"convertToInteractive('df-18cbab90-a65d-4997-aad1-d419cc1d60a6')\"\n",
              "            title=\"Convert this dataframe to an interactive table.\"\n",
              "            style=\"display:none;\">\n",
              "\n",
              "  <svg xmlns=\"http://www.w3.org/2000/svg\" height=\"24px\" viewBox=\"0 -960 960 960\">\n",
              "    <path d=\"M120-120v-720h720v720H120Zm60-500h600v-160H180v160Zm220 220h160v-160H400v160Zm0 220h160v-160H400v160ZM180-400h160v-160H180v160Zm440 0h160v-160H620v160ZM180-180h160v-160H180v160Zm440 0h160v-160H620v160Z\"/>\n",
              "  </svg>\n",
              "    </button>\n",
              "\n",
              "  <style>\n",
              "    .colab-df-container {\n",
              "      display:flex;\n",
              "      gap: 12px;\n",
              "    }\n",
              "\n",
              "    .colab-df-convert {\n",
              "      background-color: #E8F0FE;\n",
              "      border: none;\n",
              "      border-radius: 50%;\n",
              "      cursor: pointer;\n",
              "      display: none;\n",
              "      fill: #1967D2;\n",
              "      height: 32px;\n",
              "      padding: 0 0 0 0;\n",
              "      width: 32px;\n",
              "    }\n",
              "\n",
              "    .colab-df-convert:hover {\n",
              "      background-color: #E2EBFA;\n",
              "      box-shadow: 0px 1px 2px rgba(60, 64, 67, 0.3), 0px 1px 3px 1px rgba(60, 64, 67, 0.15);\n",
              "      fill: #174EA6;\n",
              "    }\n",
              "\n",
              "    .colab-df-buttons div {\n",
              "      margin-bottom: 4px;\n",
              "    }\n",
              "\n",
              "    [theme=dark] .colab-df-convert {\n",
              "      background-color: #3B4455;\n",
              "      fill: #D2E3FC;\n",
              "    }\n",
              "\n",
              "    [theme=dark] .colab-df-convert:hover {\n",
              "      background-color: #434B5C;\n",
              "      box-shadow: 0px 1px 3px 1px rgba(0, 0, 0, 0.15);\n",
              "      filter: drop-shadow(0px 1px 2px rgba(0, 0, 0, 0.3));\n",
              "      fill: #FFFFFF;\n",
              "    }\n",
              "  </style>\n",
              "\n",
              "    <script>\n",
              "      const buttonEl =\n",
              "        document.querySelector('#df-18cbab90-a65d-4997-aad1-d419cc1d60a6 button.colab-df-convert');\n",
              "      buttonEl.style.display =\n",
              "        google.colab.kernel.accessAllowed ? 'block' : 'none';\n",
              "\n",
              "      async function convertToInteractive(key) {\n",
              "        const element = document.querySelector('#df-18cbab90-a65d-4997-aad1-d419cc1d60a6');\n",
              "        const dataTable =\n",
              "          await google.colab.kernel.invokeFunction('convertToInteractive',\n",
              "                                                    [key], {});\n",
              "        if (!dataTable) return;\n",
              "\n",
              "        const docLinkHtml = 'Like what you see? Visit the ' +\n",
              "          '<a target=\"_blank\" href=https://colab.research.google.com/notebooks/data_table.ipynb>data table notebook</a>'\n",
              "          + ' to learn more about interactive tables.';\n",
              "        element.innerHTML = '';\n",
              "        dataTable['output_type'] = 'display_data';\n",
              "        await google.colab.output.renderOutput(dataTable, element);\n",
              "        const docLink = document.createElement('div');\n",
              "        docLink.innerHTML = docLinkHtml;\n",
              "        element.appendChild(docLink);\n",
              "      }\n",
              "    </script>\n",
              "  </div>\n",
              "\n",
              "\n",
              "    </div>\n",
              "  </div>\n"
            ],
            "application/vnd.google.colaboratory.intrinsic+json": {
              "type": "dataframe",
              "repr_error": "Out of range float values are not JSON compliant: nan"
            }
          },
          "metadata": {},
          "execution_count": 36
        }
      ]
    },
    {
      "cell_type": "markdown",
      "metadata": {
        "id": "FXX4YRWgzyCY"
      },
      "source": [
        "### 10. Select the rows where the age is missing, i.e. it is `NaN`."
      ]
    },
    {
      "cell_type": "code",
      "source": [
        "age_missing = df[df['age'].isna()]\n",
        "\n",
        "print(age_missing)"
      ],
      "metadata": {
        "id": "KaV4Ypkj0Ea2",
        "colab": {
          "base_uri": "https://localhost:8080/"
        },
        "outputId": "48984daf-2c42-42cf-b863-342d4cadd068"
      },
      "execution_count": null,
      "outputs": [
        {
          "output_type": "stream",
          "name": "stdout",
          "text": [
            "  animal  age  visits priority\n",
            "d    dog  NaN       3      yes\n",
            "h    cat  NaN       1      yes\n"
          ]
        }
      ]
    },
    {
      "cell_type": "markdown",
      "metadata": {
        "id": "kMH5n-UBzyCZ"
      },
      "source": [
        "### 11. Select the rows where the animal is a cat *and* the age is less than 3."
      ]
    },
    {
      "cell_type": "code",
      "source": [
        "row1 = df[(df['animal'] == 'cat') & (df['age'] < 3)]\n",
        "\n",
        "print(row1)"
      ],
      "metadata": {
        "id": "8sCDh9Ez0FND",
        "colab": {
          "base_uri": "https://localhost:8080/"
        },
        "outputId": "4debe299-2a0f-4725-cfe4-8f4f9a808c13"
      },
      "execution_count": null,
      "outputs": [
        {
          "output_type": "stream",
          "name": "stdout",
          "text": [
            "  animal  age  visits priority\n",
            "a    cat  2.5       1      yes\n",
            "f    cat  2.0       3       no\n"
          ]
        }
      ]
    },
    {
      "cell_type": "markdown",
      "metadata": {
        "id": "62Y0JsYazyCZ"
      },
      "source": [
        "### 12. Select the rows the age is between 2 and 4 (inclusive).  \n"
      ]
    },
    {
      "cell_type": "code",
      "source": [
        "row2 = df[(df['age'] <= 4) & (df['age'] >= 2)]\n",
        "\n",
        "print(row2)"
      ],
      "metadata": {
        "id": "svjvRtgZ0G76",
        "colab": {
          "base_uri": "https://localhost:8080/"
        },
        "outputId": "6f329c85-2f0a-48b7-8821-564386166632"
      },
      "execution_count": null,
      "outputs": [
        {
          "output_type": "stream",
          "name": "stdout",
          "text": [
            "  animal  age  visits priority\n",
            "a    cat  2.5       1      yes\n",
            "b    cat  3.0       3      yes\n",
            "f    cat  2.0       3       no\n",
            "j    dog  3.0       1       no\n"
          ]
        }
      ]
    },
    {
      "cell_type": "markdown",
      "metadata": {
        "id": "4lIGMIkPzyCZ"
      },
      "source": [
        "### 13. Change the age in row 'f' to 1.5."
      ]
    },
    {
      "cell_type": "code",
      "source": [
        "df.loc['f', 'age'] = 1.5\n",
        "\n",
        "print(df)"
      ],
      "metadata": {
        "id": "h4U4A6Ai0Hvk",
        "colab": {
          "base_uri": "https://localhost:8080/"
        },
        "outputId": "4de5f23a-8c58-4701-c1fd-14f259cf1d4d"
      },
      "execution_count": null,
      "outputs": [
        {
          "output_type": "stream",
          "name": "stdout",
          "text": [
            "  animal  age  visits priority\n",
            "a    cat  2.5       1      yes\n",
            "b    cat  3.0       3      yes\n",
            "c  snake  0.5       2       no\n",
            "d    dog  NaN       3      yes\n",
            "e    dog  5.0       2       no\n",
            "f    cat  1.5       3       no\n",
            "g  snake  4.5       1       no\n",
            "h    cat  NaN       1      yes\n",
            "i    dog  7.0       2       no\n",
            "j    dog  3.0       1       no\n"
          ]
        }
      ]
    },
    {
      "cell_type": "markdown",
      "metadata": {
        "id": "FZzPr9ObzyCZ"
      },
      "source": [
        "### 14. Calculate the sum of all visits in `df` (i.e. the total number of visits)."
      ]
    },
    {
      "cell_type": "code",
      "source": [
        "sum_visits = df['visits'].sum()\n",
        "\n",
        "print(sum_visits)"
      ],
      "metadata": {
        "id": "FXLAUqR40I6C",
        "colab": {
          "base_uri": "https://localhost:8080/"
        },
        "outputId": "988bec82-b78a-4152-932f-ef23bb6dd6ea"
      },
      "execution_count": null,
      "outputs": [
        {
          "output_type": "stream",
          "name": "stdout",
          "text": [
            "19\n"
          ]
        }
      ]
    },
    {
      "cell_type": "markdown",
      "metadata": {
        "id": "PO0xpJ_OzyCa"
      },
      "source": [
        "### 15. Calculate the mean age for each different animal in `df`."
      ]
    },
    {
      "cell_type": "code",
      "source": [
        "mean_age = df.groupby('animal')['age'].mean()\n",
        "\n",
        "print(mean_age)"
      ],
      "metadata": {
        "id": "L63WRx_20Kta",
        "colab": {
          "base_uri": "https://localhost:8080/"
        },
        "outputId": "1fb110ef-865b-4ffd-c920-96f0ea61dc27"
      },
      "execution_count": null,
      "outputs": [
        {
          "output_type": "stream",
          "name": "stdout",
          "text": [
            "animal\n",
            "cat      2.333333\n",
            "dog      5.000000\n",
            "snake    2.500000\n",
            "Name: age, dtype: float64\n"
          ]
        }
      ]
    },
    {
      "cell_type": "markdown",
      "metadata": {
        "id": "YfVdzQXIzyCa"
      },
      "source": [
        "### 16. Append a new row 'k' to `df` with your choice of values for each column. Then delete that row to return the original DataFrame."
      ]
    },
    {
      "cell_type": "code",
      "source": [
        "df.loc['k'] = ['monkey', 2.9, 4, 'yes']\n",
        "print(df)\n",
        "\n",
        "print('\\n')\n",
        "\n",
        "df = df.drop('k')\n",
        "print(df)"
      ],
      "metadata": {
        "id": "Per12Ekp0Mc0",
        "colab": {
          "base_uri": "https://localhost:8080/"
        },
        "outputId": "bce78546-e341-427d-aaa5-d1ae5777bbe1"
      },
      "execution_count": null,
      "outputs": [
        {
          "output_type": "stream",
          "name": "stdout",
          "text": [
            "   animal  age  visits priority\n",
            "a     cat  2.5       1      yes\n",
            "b     cat  3.0       3      yes\n",
            "c   snake  0.5       2       no\n",
            "d     dog  NaN       3      yes\n",
            "e     dog  5.0       2       no\n",
            "f     cat  1.5       3       no\n",
            "g   snake  4.5       1       no\n",
            "h     cat  NaN       1      yes\n",
            "i     dog  7.0       2       no\n",
            "j     dog  3.0       1       no\n",
            "k  monkey  2.9       4      yes\n",
            "\n",
            "\n",
            "  animal  age  visits priority\n",
            "a    cat  2.5       1      yes\n",
            "b    cat  3.0       3      yes\n",
            "c  snake  0.5       2       no\n",
            "d    dog  NaN       3      yes\n",
            "e    dog  5.0       2       no\n",
            "f    cat  1.5       3       no\n",
            "g  snake  4.5       1       no\n",
            "h    cat  NaN       1      yes\n",
            "i    dog  7.0       2       no\n",
            "j    dog  3.0       1       no\n"
          ]
        }
      ]
    },
    {
      "cell_type": "markdown",
      "metadata": {
        "id": "tDkk_tHszyCa"
      },
      "source": [
        "### 17. Count the number of each type of animal in `df`."
      ]
    },
    {
      "cell_type": "code",
      "source": [
        "count_animal = df['animal'].value_counts()\n",
        "print(count_animal)"
      ],
      "metadata": {
        "id": "v21izXST0NTR",
        "colab": {
          "base_uri": "https://localhost:8080/"
        },
        "outputId": "bef24b7d-a3fd-4204-b004-328412f5c39a"
      },
      "execution_count": null,
      "outputs": [
        {
          "output_type": "stream",
          "name": "stdout",
          "text": [
            "animal\n",
            "cat      4\n",
            "dog      4\n",
            "snake    2\n",
            "Name: count, dtype: int64\n"
          ]
        }
      ]
    },
    {
      "cell_type": "markdown",
      "metadata": {
        "id": "cwz4s5RYzyCa"
      },
      "source": [
        "### 18. Sort `df` first by the values in the 'age' in *decending* order, then by the value in the 'visits' column in *ascending* order (so row `i` should be first, and row `d` should be last).\n",
        "#### ✅출력 예시"
      ]
    },
    {
      "cell_type": "markdown",
      "source": [
        "index |animal\t| age\t|visits|\tpriority\n",
        "---|---|---|---|---\n",
        "i|\tdog|\t7.0|\t2|\tno\n",
        "e|\tdog|\t5.0|\t2|\tno\n",
        "g|\tsnake|\t4.5|\t1|\tno\n",
        "j|\tdog|\t3.0|\t1|\tno\n",
        "b|\tcat|\t3.0|\t3|\tyes\n",
        "a|\tcat|\t2.5|\t1|\tyes\n",
        "f|\tcat|\t1.5|\t3|\tno\n",
        "c|\tsnake|\t0.5|\t2|\tno\n",
        "h|\tcat|\tNaN|\t1|\tyes\n",
        "d|\tdog|\tNaN|\t3|\tyes"
      ],
      "metadata": {
        "id": "YILpLKeqzyCa"
      }
    },
    {
      "cell_type": "code",
      "source": [
        "df_sorted = df.sort_values(by = ['age', 'visits'], ascending = [False, True])\n",
        "\n",
        "print(df_sorted)"
      ],
      "metadata": {
        "id": "2l6Pb7T10Qpi",
        "colab": {
          "base_uri": "https://localhost:8080/"
        },
        "outputId": "922acba4-9f85-4abb-cd16-e6809f68f100"
      },
      "execution_count": null,
      "outputs": [
        {
          "output_type": "stream",
          "name": "stdout",
          "text": [
            "  animal  age  visits priority\n",
            "i    dog  7.0       2       no\n",
            "e    dog  5.0       2       no\n",
            "g  snake  4.5       1       no\n",
            "j    dog  3.0       1       no\n",
            "b    cat  3.0       3      yes\n",
            "a    cat  2.5       1      yes\n",
            "f    cat  1.5       3       no\n",
            "c  snake  0.5       2       no\n",
            "h    cat  NaN       1      yes\n",
            "d    dog  NaN       3      yes\n"
          ]
        }
      ]
    },
    {
      "cell_type": "markdown",
      "metadata": {
        "id": "6hfE99qHzyCb"
      },
      "source": [
        "### 19. The 'priority' column contains the values 'yes' and 'no'. Replace this column with a column of boolean values: 'yes' should be `True` and 'no' should be `False`.  \n",
        "(hint: `map`)"
      ]
    },
    {
      "cell_type": "code",
      "source": [
        "map_priority = {'yes' : 'True', 'no' : 'False'}\n",
        "df['priority'] = df['priority'].map(map_priority)\n",
        "\n",
        "print(df)"
      ],
      "metadata": {
        "id": "lPLmBRUP0SnR",
        "colab": {
          "base_uri": "https://localhost:8080/"
        },
        "outputId": "4f46e8bd-f960-438b-93ac-ffb9c23f5a9f"
      },
      "execution_count": null,
      "outputs": [
        {
          "output_type": "stream",
          "name": "stdout",
          "text": [
            "  animal  age  visits priority\n",
            "a    cat  2.5       1     True\n",
            "b    cat  3.0       3     True\n",
            "c  snake  0.5       2    False\n",
            "d    dog  NaN       3     True\n",
            "e    dog  5.0       2    False\n",
            "f    cat  1.5       3    False\n",
            "g  snake  4.5       1    False\n",
            "h    cat  NaN       1     True\n",
            "i    dog  7.0       2    False\n",
            "j    dog  3.0       1    False\n"
          ]
        }
      ]
    },
    {
      "cell_type": "markdown",
      "metadata": {
        "id": "ycaIJncEzyCb"
      },
      "source": [
        "### 20. In the 'animal' column, change the 'snake' entries to 'python'.   "
      ]
    },
    {
      "cell_type": "code",
      "source": [
        "df = pd.DataFrame({'animal' : ['cat', 'dog', 'snake', 'dog', 'cat', 'snake']})\n",
        "df['animal'] = df['animal'].replace('snake', 'python')"
      ],
      "metadata": {
        "id": "MZelDUlE0Wag"
      },
      "execution_count": null,
      "outputs": []
    },
    {
      "cell_type": "code",
      "source": [
        "# 확인용 df 출력 셀\n",
        "df"
      ],
      "metadata": {
        "id": "uYFF5Jew0Xz7",
        "colab": {
          "base_uri": "https://localhost:8080/",
          "height": 238
        },
        "outputId": "ff41598c-bdfd-4225-b7c7-19b106a15c1d"
      },
      "execution_count": null,
      "outputs": [
        {
          "output_type": "execute_result",
          "data": {
            "text/plain": [
              "   animal\n",
              "0     cat\n",
              "1     dog\n",
              "2  python\n",
              "3     dog\n",
              "4     cat\n",
              "5  python"
            ],
            "text/html": [
              "\n",
              "  <div id=\"df-eddafbf3-0ef2-407c-a7cc-93e84cd4f01d\" class=\"colab-df-container\">\n",
              "    <div>\n",
              "<style scoped>\n",
              "    .dataframe tbody tr th:only-of-type {\n",
              "        vertical-align: middle;\n",
              "    }\n",
              "\n",
              "    .dataframe tbody tr th {\n",
              "        vertical-align: top;\n",
              "    }\n",
              "\n",
              "    .dataframe thead th {\n",
              "        text-align: right;\n",
              "    }\n",
              "</style>\n",
              "<table border=\"1\" class=\"dataframe\">\n",
              "  <thead>\n",
              "    <tr style=\"text-align: right;\">\n",
              "      <th></th>\n",
              "      <th>animal</th>\n",
              "    </tr>\n",
              "  </thead>\n",
              "  <tbody>\n",
              "    <tr>\n",
              "      <th>0</th>\n",
              "      <td>cat</td>\n",
              "    </tr>\n",
              "    <tr>\n",
              "      <th>1</th>\n",
              "      <td>dog</td>\n",
              "    </tr>\n",
              "    <tr>\n",
              "      <th>2</th>\n",
              "      <td>python</td>\n",
              "    </tr>\n",
              "    <tr>\n",
              "      <th>3</th>\n",
              "      <td>dog</td>\n",
              "    </tr>\n",
              "    <tr>\n",
              "      <th>4</th>\n",
              "      <td>cat</td>\n",
              "    </tr>\n",
              "    <tr>\n",
              "      <th>5</th>\n",
              "      <td>python</td>\n",
              "    </tr>\n",
              "  </tbody>\n",
              "</table>\n",
              "</div>\n",
              "    <div class=\"colab-df-buttons\">\n",
              "\n",
              "  <div class=\"colab-df-container\">\n",
              "    <button class=\"colab-df-convert\" onclick=\"convertToInteractive('df-eddafbf3-0ef2-407c-a7cc-93e84cd4f01d')\"\n",
              "            title=\"Convert this dataframe to an interactive table.\"\n",
              "            style=\"display:none;\">\n",
              "\n",
              "  <svg xmlns=\"http://www.w3.org/2000/svg\" height=\"24px\" viewBox=\"0 -960 960 960\">\n",
              "    <path d=\"M120-120v-720h720v720H120Zm60-500h600v-160H180v160Zm220 220h160v-160H400v160Zm0 220h160v-160H400v160ZM180-400h160v-160H180v160Zm440 0h160v-160H620v160ZM180-180h160v-160H180v160Zm440 0h160v-160H620v160Z\"/>\n",
              "  </svg>\n",
              "    </button>\n",
              "\n",
              "  <style>\n",
              "    .colab-df-container {\n",
              "      display:flex;\n",
              "      gap: 12px;\n",
              "    }\n",
              "\n",
              "    .colab-df-convert {\n",
              "      background-color: #E8F0FE;\n",
              "      border: none;\n",
              "      border-radius: 50%;\n",
              "      cursor: pointer;\n",
              "      display: none;\n",
              "      fill: #1967D2;\n",
              "      height: 32px;\n",
              "      padding: 0 0 0 0;\n",
              "      width: 32px;\n",
              "    }\n",
              "\n",
              "    .colab-df-convert:hover {\n",
              "      background-color: #E2EBFA;\n",
              "      box-shadow: 0px 1px 2px rgba(60, 64, 67, 0.3), 0px 1px 3px 1px rgba(60, 64, 67, 0.15);\n",
              "      fill: #174EA6;\n",
              "    }\n",
              "\n",
              "    .colab-df-buttons div {\n",
              "      margin-bottom: 4px;\n",
              "    }\n",
              "\n",
              "    [theme=dark] .colab-df-convert {\n",
              "      background-color: #3B4455;\n",
              "      fill: #D2E3FC;\n",
              "    }\n",
              "\n",
              "    [theme=dark] .colab-df-convert:hover {\n",
              "      background-color: #434B5C;\n",
              "      box-shadow: 0px 1px 3px 1px rgba(0, 0, 0, 0.15);\n",
              "      filter: drop-shadow(0px 1px 2px rgba(0, 0, 0, 0.3));\n",
              "      fill: #FFFFFF;\n",
              "    }\n",
              "  </style>\n",
              "\n",
              "    <script>\n",
              "      const buttonEl =\n",
              "        document.querySelector('#df-eddafbf3-0ef2-407c-a7cc-93e84cd4f01d button.colab-df-convert');\n",
              "      buttonEl.style.display =\n",
              "        google.colab.kernel.accessAllowed ? 'block' : 'none';\n",
              "\n",
              "      async function convertToInteractive(key) {\n",
              "        const element = document.querySelector('#df-eddafbf3-0ef2-407c-a7cc-93e84cd4f01d');\n",
              "        const dataTable =\n",
              "          await google.colab.kernel.invokeFunction('convertToInteractive',\n",
              "                                                    [key], {});\n",
              "        if (!dataTable) return;\n",
              "\n",
              "        const docLinkHtml = 'Like what you see? Visit the ' +\n",
              "          '<a target=\"_blank\" href=https://colab.research.google.com/notebooks/data_table.ipynb>data table notebook</a>'\n",
              "          + ' to learn more about interactive tables.';\n",
              "        element.innerHTML = '';\n",
              "        dataTable['output_type'] = 'display_data';\n",
              "        await google.colab.output.renderOutput(dataTable, element);\n",
              "        const docLink = document.createElement('div');\n",
              "        docLink.innerHTML = docLinkHtml;\n",
              "        element.appendChild(docLink);\n",
              "      }\n",
              "    </script>\n",
              "  </div>\n",
              "\n",
              "\n",
              "<div id=\"df-f8586237-a0b7-4b81-95ee-96d6d0abea60\">\n",
              "  <button class=\"colab-df-quickchart\" onclick=\"quickchart('df-f8586237-a0b7-4b81-95ee-96d6d0abea60')\"\n",
              "            title=\"Suggest charts\"\n",
              "            style=\"display:none;\">\n",
              "\n",
              "<svg xmlns=\"http://www.w3.org/2000/svg\" height=\"24px\"viewBox=\"0 0 24 24\"\n",
              "     width=\"24px\">\n",
              "    <g>\n",
              "        <path d=\"M19 3H5c-1.1 0-2 .9-2 2v14c0 1.1.9 2 2 2h14c1.1 0 2-.9 2-2V5c0-1.1-.9-2-2-2zM9 17H7v-7h2v7zm4 0h-2V7h2v10zm4 0h-2v-4h2v4z\"/>\n",
              "    </g>\n",
              "</svg>\n",
              "  </button>\n",
              "\n",
              "<style>\n",
              "  .colab-df-quickchart {\n",
              "      --bg-color: #E8F0FE;\n",
              "      --fill-color: #1967D2;\n",
              "      --hover-bg-color: #E2EBFA;\n",
              "      --hover-fill-color: #174EA6;\n",
              "      --disabled-fill-color: #AAA;\n",
              "      --disabled-bg-color: #DDD;\n",
              "  }\n",
              "\n",
              "  [theme=dark] .colab-df-quickchart {\n",
              "      --bg-color: #3B4455;\n",
              "      --fill-color: #D2E3FC;\n",
              "      --hover-bg-color: #434B5C;\n",
              "      --hover-fill-color: #FFFFFF;\n",
              "      --disabled-bg-color: #3B4455;\n",
              "      --disabled-fill-color: #666;\n",
              "  }\n",
              "\n",
              "  .colab-df-quickchart {\n",
              "    background-color: var(--bg-color);\n",
              "    border: none;\n",
              "    border-radius: 50%;\n",
              "    cursor: pointer;\n",
              "    display: none;\n",
              "    fill: var(--fill-color);\n",
              "    height: 32px;\n",
              "    padding: 0;\n",
              "    width: 32px;\n",
              "  }\n",
              "\n",
              "  .colab-df-quickchart:hover {\n",
              "    background-color: var(--hover-bg-color);\n",
              "    box-shadow: 0 1px 2px rgba(60, 64, 67, 0.3), 0 1px 3px 1px rgba(60, 64, 67, 0.15);\n",
              "    fill: var(--button-hover-fill-color);\n",
              "  }\n",
              "\n",
              "  .colab-df-quickchart-complete:disabled,\n",
              "  .colab-df-quickchart-complete:disabled:hover {\n",
              "    background-color: var(--disabled-bg-color);\n",
              "    fill: var(--disabled-fill-color);\n",
              "    box-shadow: none;\n",
              "  }\n",
              "\n",
              "  .colab-df-spinner {\n",
              "    border: 2px solid var(--fill-color);\n",
              "    border-color: transparent;\n",
              "    border-bottom-color: var(--fill-color);\n",
              "    animation:\n",
              "      spin 1s steps(1) infinite;\n",
              "  }\n",
              "\n",
              "  @keyframes spin {\n",
              "    0% {\n",
              "      border-color: transparent;\n",
              "      border-bottom-color: var(--fill-color);\n",
              "      border-left-color: var(--fill-color);\n",
              "    }\n",
              "    20% {\n",
              "      border-color: transparent;\n",
              "      border-left-color: var(--fill-color);\n",
              "      border-top-color: var(--fill-color);\n",
              "    }\n",
              "    30% {\n",
              "      border-color: transparent;\n",
              "      border-left-color: var(--fill-color);\n",
              "      border-top-color: var(--fill-color);\n",
              "      border-right-color: var(--fill-color);\n",
              "    }\n",
              "    40% {\n",
              "      border-color: transparent;\n",
              "      border-right-color: var(--fill-color);\n",
              "      border-top-color: var(--fill-color);\n",
              "    }\n",
              "    60% {\n",
              "      border-color: transparent;\n",
              "      border-right-color: var(--fill-color);\n",
              "    }\n",
              "    80% {\n",
              "      border-color: transparent;\n",
              "      border-right-color: var(--fill-color);\n",
              "      border-bottom-color: var(--fill-color);\n",
              "    }\n",
              "    90% {\n",
              "      border-color: transparent;\n",
              "      border-bottom-color: var(--fill-color);\n",
              "    }\n",
              "  }\n",
              "</style>\n",
              "\n",
              "  <script>\n",
              "    async function quickchart(key) {\n",
              "      const quickchartButtonEl =\n",
              "        document.querySelector('#' + key + ' button');\n",
              "      quickchartButtonEl.disabled = true;  // To prevent multiple clicks.\n",
              "      quickchartButtonEl.classList.add('colab-df-spinner');\n",
              "      try {\n",
              "        const charts = await google.colab.kernel.invokeFunction(\n",
              "            'suggestCharts', [key], {});\n",
              "      } catch (error) {\n",
              "        console.error('Error during call to suggestCharts:', error);\n",
              "      }\n",
              "      quickchartButtonEl.classList.remove('colab-df-spinner');\n",
              "      quickchartButtonEl.classList.add('colab-df-quickchart-complete');\n",
              "    }\n",
              "    (() => {\n",
              "      let quickchartButtonEl =\n",
              "        document.querySelector('#df-f8586237-a0b7-4b81-95ee-96d6d0abea60 button');\n",
              "      quickchartButtonEl.style.display =\n",
              "        google.colab.kernel.accessAllowed ? 'block' : 'none';\n",
              "    })();\n",
              "  </script>\n",
              "</div>\n",
              "\n",
              "  <div id=\"id_64d636d2-7762-486c-a30f-1a05bea90a11\">\n",
              "    <style>\n",
              "      .colab-df-generate {\n",
              "        background-color: #E8F0FE;\n",
              "        border: none;\n",
              "        border-radius: 50%;\n",
              "        cursor: pointer;\n",
              "        display: none;\n",
              "        fill: #1967D2;\n",
              "        height: 32px;\n",
              "        padding: 0 0 0 0;\n",
              "        width: 32px;\n",
              "      }\n",
              "\n",
              "      .colab-df-generate:hover {\n",
              "        background-color: #E2EBFA;\n",
              "        box-shadow: 0px 1px 2px rgba(60, 64, 67, 0.3), 0px 1px 3px 1px rgba(60, 64, 67, 0.15);\n",
              "        fill: #174EA6;\n",
              "      }\n",
              "\n",
              "      [theme=dark] .colab-df-generate {\n",
              "        background-color: #3B4455;\n",
              "        fill: #D2E3FC;\n",
              "      }\n",
              "\n",
              "      [theme=dark] .colab-df-generate:hover {\n",
              "        background-color: #434B5C;\n",
              "        box-shadow: 0px 1px 3px 1px rgba(0, 0, 0, 0.15);\n",
              "        filter: drop-shadow(0px 1px 2px rgba(0, 0, 0, 0.3));\n",
              "        fill: #FFFFFF;\n",
              "      }\n",
              "    </style>\n",
              "    <button class=\"colab-df-generate\" onclick=\"generateWithVariable('df')\"\n",
              "            title=\"Generate code using this dataframe.\"\n",
              "            style=\"display:none;\">\n",
              "\n",
              "  <svg xmlns=\"http://www.w3.org/2000/svg\" height=\"24px\"viewBox=\"0 0 24 24\"\n",
              "       width=\"24px\">\n",
              "    <path d=\"M7,19H8.4L18.45,9,17,7.55,7,17.6ZM5,21V16.75L18.45,3.32a2,2,0,0,1,2.83,0l1.4,1.43a1.91,1.91,0,0,1,.58,1.4,1.91,1.91,0,0,1-.58,1.4L9.25,21ZM18.45,9,17,7.55Zm-12,3A5.31,5.31,0,0,0,4.9,8.1,5.31,5.31,0,0,0,1,6.5,5.31,5.31,0,0,0,4.9,4.9,5.31,5.31,0,0,0,6.5,1,5.31,5.31,0,0,0,8.1,4.9,5.31,5.31,0,0,0,12,6.5,5.46,5.46,0,0,0,6.5,12Z\"/>\n",
              "  </svg>\n",
              "    </button>\n",
              "    <script>\n",
              "      (() => {\n",
              "      const buttonEl =\n",
              "        document.querySelector('#id_64d636d2-7762-486c-a30f-1a05bea90a11 button.colab-df-generate');\n",
              "      buttonEl.style.display =\n",
              "        google.colab.kernel.accessAllowed ? 'block' : 'none';\n",
              "\n",
              "      buttonEl.onclick = () => {\n",
              "        google.colab.notebook.generateWithVariable('df');\n",
              "      }\n",
              "      })();\n",
              "    </script>\n",
              "  </div>\n",
              "\n",
              "    </div>\n",
              "  </div>\n"
            ],
            "application/vnd.google.colaboratory.intrinsic+json": {
              "type": "dataframe",
              "variable_name": "df",
              "summary": "{\n  \"name\": \"df\",\n  \"rows\": 6,\n  \"fields\": [\n    {\n      \"column\": \"animal\",\n      \"properties\": {\n        \"dtype\": \"string\",\n        \"num_unique_values\": 3,\n        \"samples\": [\n          \"cat\",\n          \"dog\",\n          \"python\"\n        ],\n        \"semantic_type\": \"\",\n        \"description\": \"\"\n      }\n    }\n  ]\n}"
            }
          },
          "metadata": {},
          "execution_count": 58
        }
      ]
    },
    {
      "cell_type": "markdown",
      "metadata": {
        "id": "5YmjKvYizyCb"
      },
      "source": [
        "### 21. Given a DataFrame of random numeric values:\n",
        "```python\n",
        "df = pd.DataFrame(np.random.random(size=(5, 3))) # this is a 5x3 DataFrame of float values\n",
        "```\n",
        "\n",
        "how do you subtract the row mean from each element in the row?"
      ]
    },
    {
      "cell_type": "code",
      "source": [
        "# 랜덤 시드 고정\n",
        "np.random.seed(2025)\n",
        "\n",
        "df = pd.DataFrame(np.random.random(size=(5, 3)))\n",
        "\n",
        "\n"
      ],
      "metadata": {
        "id": "EeAkDWv40e9J"
      },
      "execution_count": null,
      "outputs": []
    },
    {
      "cell_type": "code",
      "source": [
        "df_subtract = df.sub(df.mean(axis = 1), axis = 0)\n",
        "print(df_subtract)"
      ],
      "metadata": {
        "id": "Z24qNGpgKEVi",
        "colab": {
          "base_uri": "https://localhost:8080/"
        },
        "outputId": "d3b458d8-39cf-4cea-9823-3377d8641d49"
      },
      "execution_count": null,
      "outputs": [
        {
          "output_type": "stream",
          "name": "stdout",
          "text": [
            "          0         1         2\n",
            "0 -0.516494  0.235870  0.280624\n",
            "1  0.081768  0.024435 -0.106204\n",
            "2 -0.047373 -0.212124  0.259497\n",
            "3  0.115235 -0.230544  0.115309\n",
            "4 -0.229731  0.498009 -0.268278\n"
          ]
        }
      ]
    }
  ]
}